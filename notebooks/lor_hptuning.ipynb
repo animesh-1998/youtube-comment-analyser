{
 "cells": [
  {
   "cell_type": "code",
   "execution_count": 1,
   "metadata": {},
   "outputs": [
    {
     "data": {
      "text/html": [
       "<div>\n",
       "<style scoped>\n",
       "    .dataframe tbody tr th:only-of-type {\n",
       "        vertical-align: middle;\n",
       "    }\n",
       "\n",
       "    .dataframe tbody tr th {\n",
       "        vertical-align: top;\n",
       "    }\n",
       "\n",
       "    .dataframe thead th {\n",
       "        text-align: right;\n",
       "    }\n",
       "</style>\n",
       "<table border=\"1\" class=\"dataframe\">\n",
       "  <thead>\n",
       "    <tr style=\"text-align: right;\">\n",
       "      <th></th>\n",
       "      <th>clean_comment</th>\n",
       "      <th>category</th>\n",
       "    </tr>\n",
       "  </thead>\n",
       "  <tbody>\n",
       "    <tr>\n",
       "      <th>0</th>\n",
       "      <td>family mormon never tried explain still stare ...</td>\n",
       "      <td>1</td>\n",
       "    </tr>\n",
       "    <tr>\n",
       "      <th>1</th>\n",
       "      <td>buddhism much lot compatible christianity espe...</td>\n",
       "      <td>1</td>\n",
       "    </tr>\n",
       "    <tr>\n",
       "      <th>2</th>\n",
       "      <td>seriously say thing first get complex explain ...</td>\n",
       "      <td>-1</td>\n",
       "    </tr>\n",
       "    <tr>\n",
       "      <th>3</th>\n",
       "      <td>learned want teach different focus goal not wr...</td>\n",
       "      <td>0</td>\n",
       "    </tr>\n",
       "    <tr>\n",
       "      <th>4</th>\n",
       "      <td>benefit may want read living buddha living chr...</td>\n",
       "      <td>1</td>\n",
       "    </tr>\n",
       "    <tr>\n",
       "      <th>...</th>\n",
       "      <td>...</td>\n",
       "      <td>...</td>\n",
       "    </tr>\n",
       "    <tr>\n",
       "      <th>36788</th>\n",
       "      <td>jesus</td>\n",
       "      <td>0</td>\n",
       "    </tr>\n",
       "    <tr>\n",
       "      <th>36789</th>\n",
       "      <td>kya bhai pure saal chutiya banaya modi aur jab...</td>\n",
       "      <td>1</td>\n",
       "    </tr>\n",
       "    <tr>\n",
       "      <th>36790</th>\n",
       "      <td>downvote karna tha par upvote hogaya</td>\n",
       "      <td>0</td>\n",
       "    </tr>\n",
       "    <tr>\n",
       "      <th>36791</th>\n",
       "      <td>haha nice</td>\n",
       "      <td>1</td>\n",
       "    </tr>\n",
       "    <tr>\n",
       "      <th>36792</th>\n",
       "      <td>facebook working bjp cell</td>\n",
       "      <td>0</td>\n",
       "    </tr>\n",
       "  </tbody>\n",
       "</table>\n",
       "<p>36793 rows × 2 columns</p>\n",
       "</div>"
      ],
      "text/plain": [
       "                                           clean_comment  category\n",
       "0      family mormon never tried explain still stare ...         1\n",
       "1      buddhism much lot compatible christianity espe...         1\n",
       "2      seriously say thing first get complex explain ...        -1\n",
       "3      learned want teach different focus goal not wr...         0\n",
       "4      benefit may want read living buddha living chr...         1\n",
       "...                                                  ...       ...\n",
       "36788                                              jesus         0\n",
       "36789  kya bhai pure saal chutiya banaya modi aur jab...         1\n",
       "36790               downvote karna tha par upvote hogaya         0\n",
       "36791                                          haha nice         1\n",
       "36792                          facebook working bjp cell         0\n",
       "\n",
       "[36793 rows x 2 columns]"
      ]
     },
     "execution_count": 1,
     "metadata": {},
     "output_type": "execute_result"
    }
   ],
   "source": [
    "import pandas as pd\n",
    "\n",
    "df = pd.read_csv(r\"C:\\Users\\anime\\OneDrive\\Desktop\\Data Science Projects\\Youtube Comment Analysis\\youtube_comment_analyser\\data\\processed\\reddit_preprocessing.csv\")\n",
    "df"
   ]
  },
  {
   "cell_type": "code",
   "execution_count": 2,
   "metadata": {},
   "outputs": [
    {
     "data": {
      "text/plain": [
       "(36661, 2)"
      ]
     },
     "execution_count": 2,
     "metadata": {},
     "output_type": "execute_result"
    }
   ],
   "source": [
    "df =  df.dropna(subset=[\"clean_comment\"])\n",
    "df.shape"
   ]
  },
  {
   "cell_type": "code",
   "execution_count": null,
   "metadata": {},
   "outputs": [
    {
     "name": "stderr",
     "output_type": "stream",
     "text": [
      "c:\\Users\\anime\\OneDrive\\Desktop\\Data Science Projects\\Youtube Comment Analysis\\comment_analysis\\lib\\site-packages\\tqdm\\auto.py:21: TqdmWarning: IProgress not found. Please update jupyter and ipywidgets. See https://ipywidgets.readthedocs.io/en/stable/user_install.html\n",
      "  from .autonotebook import tqdm as notebook_tqdm\n"
     ]
    }
   ],
   "source": [
    "import mlflow\n",
    "import optuna\n",
    "import os\n",
    "import numpy as np\n",
    "from sklearn.feature_extraction.text import TfidfVectorizer\n",
    "from sklearn.model_selection import train_test_split, cross_val_score\n",
    "from sklearn.metrics import accuracy_score, classification_report\n",
    "from imblearn.under_sampling import RandomUnderSampler\n",
    "from sklearn.linear_model import LogisticRegression"
   ]
  },
  {
   "cell_type": "code",
   "execution_count": null,
   "metadata": {},
   "outputs": [
    {
     "data": {
      "text/plain": [
       "<Experiment: artifact_location='s3://datascienceanimesh/516785590309530379', creation_time=1743657286448, experiment_id='516785590309530379', last_update_time=1743657286448, lifecycle_stage='active', name='ML Algos with Revised HP Tuning', tags={}>"
      ]
     },
     "execution_count": 4,
     "metadata": {},
     "output_type": "execute_result"
    }
   ],
   "source": [
    "mlflow.set_tracking_uri(os.getenv(\"MLFLOW_TRACKING_URI\"))\n",
    "mlflow.set_experiment(\"ML Algos with Revised HP Tuning\")"
   ]
  },
  {
   "cell_type": "code",
   "execution_count": 5,
   "metadata": {},
   "outputs": [
    {
     "name": "stderr",
     "output_type": "stream",
     "text": [
      "[I 2025-04-03 11:19:30,772] A new study created in memory with name: no-name-075d6ac0-27a1-4002-9338-80a6a9badccd\n",
      "[I 2025-04-03 11:19:30,970] Trial 0 finished with value: 0.6697989919668006 and parameters: {'C': 0.00852782063140673, 'penalty': 'l2'}. Best is trial 0 with value: 0.6697989919668006.\n",
      "[I 2025-04-03 11:19:31,166] Trial 1 finished with value: 0.6691422477054794 and parameters: {'C': 0.008022431860771295, 'penalty': 'l2'}. Best is trial 0 with value: 0.6697989919668006.\n",
      "[I 2025-04-03 11:19:31,539] Trial 2 finished with value: 0.7836720906726999 and parameters: {'C': 2.228817860005025, 'penalty': 'l1'}. Best is trial 2 with value: 0.7836720906726999.\n",
      "[I 2025-04-03 11:19:31,962] Trial 3 finished with value: 0.7797314208892794 and parameters: {'C': 4.041966171396795, 'penalty': 'l1'}. Best is trial 2 with value: 0.7836720906726999.\n",
      "[I 2025-04-03 11:19:32,131] Trial 4 finished with value: 0.7169850109657337 and parameters: {'C': 0.13631821990216617, 'penalty': 'l1'}. Best is trial 2 with value: 0.7836720906726999.\n",
      "[I 2025-04-03 11:19:32,532] Trial 5 finished with value: 0.7750836294351616 and parameters: {'C': 1.84369776736097, 'penalty': 'l2'}. Best is trial 2 with value: 0.7836720906726999.\n",
      "[I 2025-04-03 11:19:32,645] Trial 6 finished with value: 0.42032898860617945 and parameters: {'C': 0.014696173366692936, 'penalty': 'l1'}. Best is trial 2 with value: 0.7836720906726999.\n",
      "[I 2025-04-03 11:19:32,900] Trial 7 finished with value: 0.7217339656695888 and parameters: {'C': 0.08827544447025987, 'penalty': 'l2'}. Best is trial 2 with value: 0.7836720906726999.\n",
      "[I 2025-04-03 11:19:32,980] Trial 8 finished with value: 0.3331817756562624 and parameters: {'C': 0.0006238268164013107, 'penalty': 'l1'}. Best is trial 2 with value: 0.7836720906726999.\n",
      "[I 2025-04-03 11:19:33,246] Trial 9 finished with value: 0.7336062503214797 and parameters: {'C': 0.13322746701357344, 'penalty': 'l2'}. Best is trial 2 with value: 0.7836720906726999.\n",
      "[I 2025-04-03 11:19:33,630] Trial 10 finished with value: 0.7759928989167773 and parameters: {'C': 9.225597415196253, 'penalty': 'l1'}. Best is trial 2 with value: 0.7836720906726999.\n",
      "[I 2025-04-03 11:19:33,920] Trial 11 finished with value: 0.7852383086311295 and parameters: {'C': 1.7501414734487046, 'penalty': 'l1'}. Best is trial 11 with value: 0.7852383086311295.\n",
      "[I 2025-04-03 11:19:34,142] Trial 12 finished with value: 0.7846318141445011 and parameters: {'C': 0.7585751625354111, 'penalty': 'l1'}. Best is trial 11 with value: 0.7852383086311295.\n",
      "[I 2025-04-03 11:19:34,344] Trial 13 finished with value: 0.7722543003634652 and parameters: {'C': 0.37264315618878585, 'penalty': 'l1'}. Best is trial 11 with value: 0.7852383086311295.\n",
      "[I 2025-04-03 11:19:34,555] Trial 14 finished with value: 0.780590223617241 and parameters: {'C': 0.5312905339016547, 'penalty': 'l1'}. Best is trial 11 with value: 0.7852383086311295.\n",
      "[I 2025-04-03 11:19:34,909] Trial 15 finished with value: 0.7832173410606773 and parameters: {'C': 0.677036527179906, 'penalty': 'l1'}. Best is trial 11 with value: 0.7852383086311295.\n",
      "[I 2025-04-03 11:19:34,997] Trial 16 finished with value: 0.3331817756562624 and parameters: {'C': 0.0009829222141820933, 'penalty': 'l1'}. Best is trial 11 with value: 0.7852383086311295.\n",
      "[I 2025-04-03 11:19:35,124] Trial 17 finished with value: 0.6134689690091502 and parameters: {'C': 0.04624775559384784, 'penalty': 'l1'}. Best is trial 11 with value: 0.7852383086311295.\n",
      "[I 2025-04-03 11:19:35,396] Trial 18 finished with value: 0.7857433845986547 and parameters: {'C': 1.0684083003510314, 'penalty': 'l1'}. Best is trial 18 with value: 0.7857433845986547.\n",
      "[I 2025-04-03 11:19:35,894] Trial 19 finished with value: 0.7758918505382546 and parameters: {'C': 9.454902359297055, 'penalty': 'l1'}. Best is trial 18 with value: 0.7857433845986547.\n",
      "[I 2025-04-03 11:19:35,989] Trial 20 finished with value: 0.33333332907884394 and parameters: {'C': 0.00014759466515915337, 'penalty': 'l1'}. Best is trial 18 with value: 0.7857433845986547.\n",
      "[I 2025-04-03 11:19:36,412] Trial 21 finished with value: 0.7856929816623421 and parameters: {'C': 1.5222353088121208, 'penalty': 'l1'}. Best is trial 18 with value: 0.7857433845986547.\n",
      "[I 2025-04-03 11:19:36,880] Trial 22 finished with value: 0.7843793527415484 and parameters: {'C': 2.0100196504545917, 'penalty': 'l1'}. Best is trial 18 with value: 0.7857433845986547.\n",
      "[I 2025-04-03 11:19:37,163] Trial 23 finished with value: 0.764272091106658 and parameters: {'C': 0.30224718627555086, 'penalty': 'l1'}. Best is trial 18 with value: 0.7857433845986547.\n",
      "[I 2025-04-03 11:19:37,576] Trial 24 finished with value: 0.7862486264912677 and parameters: {'C': 1.3400823602763228, 'penalty': 'l1'}. Best is trial 24 with value: 0.7862486264912677.\n",
      "[I 2025-04-03 11:19:38,110] Trial 25 finished with value: 0.7794788573785801 and parameters: {'C': 4.244740781876006, 'penalty': 'l1'}. Best is trial 24 with value: 0.7862486264912677.\n",
      "[I 2025-04-03 11:19:38,496] Trial 26 finished with value: 0.7508338182387664 and parameters: {'C': 0.25167082661416945, 'penalty': 'l2'}. Best is trial 24 with value: 0.7862486264912677.\n",
      "[I 2025-04-03 11:19:38,887] Trial 27 finished with value: 0.7859959608728222 and parameters: {'C': 1.0478234817155354, 'penalty': 'l1'}. Best is trial 24 with value: 0.7862486264912677.\n",
      "[I 2025-04-03 11:19:39,043] Trial 28 finished with value: 0.5578965855297241 and parameters: {'C': 0.029169342369880977, 'penalty': 'l1'}. Best is trial 24 with value: 0.7862486264912677.\n",
      "[I 2025-04-03 11:19:39,261] Trial 29 finished with value: 0.6647975248061198 and parameters: {'C': 0.004416249265180973, 'penalty': 'l2'}. Best is trial 24 with value: 0.7862486264912677.\n",
      "2025/04/03 11:19:55 WARNING mlflow.models.model: Model logged without a signature and input example. Please set `input_example` parameter when logging the model to auto infer the model signature.\n"
     ]
    },
    {
     "name": "stdout",
     "output_type": "stream",
     "text": [
      "🏃 View run LogisticRegression_UnderSampler_TFIDF_Bigrams at: http://ec2-16-171-237-43.eu-north-1.compute.amazonaws.com:5000/#/experiments/516785590309530379/runs/fcaa8651a93040f688588978819998a9\n",
      "🧪 View experiment at: http://ec2-16-171-237-43.eu-north-1.compute.amazonaws.com:5000/#/experiments/516785590309530379\n"
     ]
    }
   ],
   "source": [
    "import mlflow\n",
    "import optuna\n",
    "import numpy as np\n",
    "from sklearn.feature_extraction.text import TfidfVectorizer\n",
    "from sklearn.model_selection import train_test_split, cross_val_score\n",
    "from sklearn.linear_model import LogisticRegression\n",
    "from sklearn.metrics import accuracy_score, classification_report\n",
    "from imblearn.under_sampling import RandomUnderSampler\n",
    "\n",
    "# Step 1: Remove rows where 'category' is NaN\n",
    "df = df.dropna(subset=['category'])\n",
    "\n",
    "# Step 2: Train-test split BEFORE TF-IDF vectorization\n",
    "X_train_raw, X_test_raw, y_train, y_test = train_test_split(\n",
    "    df['clean_comment'], df['category'], test_size=0.2, random_state=42, stratify=df['category']\n",
    ")\n",
    "\n",
    "# Step 3: TF-IDF vectorization applied only on training data\n",
    "ngram_range = (1, 2)  # Use bigram features\n",
    "max_features = 1000  # Limit vocabulary size\n",
    "\n",
    "vectorizer = TfidfVectorizer(ngram_range=ngram_range, max_features=max_features)\n",
    "X_train = vectorizer.fit_transform(X_train_raw)  # Fit on training data\n",
    "X_test = vectorizer.transform(X_test_raw)  # Transform test data separately\n",
    "\n",
    "# Step 4: Apply RandomUnderSampler to balance classes in the training set\n",
    "undersampler = RandomUnderSampler(random_state=42)\n",
    "X_train_resampled, y_train_resampled = undersampler.fit_resample(X_train, y_train)\n",
    "\n",
    "# Function to log results in MLflow\n",
    "def log_mlflow(model_name, model, X_train, X_test, y_train, y_test):\n",
    "    with mlflow.start_run():\n",
    "        # Log model type\n",
    "        mlflow.set_tag(\"mlflow.runName\", f\"{model_name}_UnderSampler_TFIDF_Bigrams\")\n",
    "        mlflow.set_tag(\"experiment_type\", \"algorithm_comparison\")\n",
    "\n",
    "        # Log algorithm name as a parameter\n",
    "        mlflow.log_param(\"algo_name\", model_name)\n",
    "\n",
    "        # Train model\n",
    "        model.fit(X_train, y_train)\n",
    "        y_pred = model.predict(X_test)\n",
    "\n",
    "        # Log accuracy\n",
    "        accuracy = accuracy_score(y_test, y_pred)\n",
    "        mlflow.log_metric(\"accuracy\", accuracy)\n",
    "\n",
    "        # Log classification report\n",
    "        classification_rep = classification_report(y_test, y_pred, output_dict=True)\n",
    "        for label, metrics in classification_rep.items():\n",
    "            if isinstance(metrics, dict):\n",
    "                for metric, value in metrics.items():\n",
    "                    mlflow.log_metric(f\"{label}_{metric}\", value)\n",
    "\n",
    "        # Log the model\n",
    "        mlflow.sklearn.log_model(model, f\"{model_name}_model\")\n",
    "\n",
    "\n",
    "# Step 6: Optuna objective function for Logistic Regression using cross-validation\n",
    "def objective_logreg(trial):\n",
    "    C = trial.suggest_float('C', 1e-4, 10.0, log=True)\n",
    "    penalty = trial.suggest_categorical('penalty', ['l1', 'l2'])\n",
    "\n",
    "    # LogisticRegression model setup with balanced class weight\n",
    "    model = LogisticRegression(C=C, penalty=penalty, solver='liblinear', random_state=42)\n",
    "\n",
    "    # Use cross-validation on resampled training data\n",
    "    cv_scores = cross_val_score(model, X_train_resampled, y_train_resampled, cv=5, scoring='accuracy')\n",
    "    return np.mean(cv_scores)  # Return mean accuracy of cross-validation\n",
    "\n",
    "\n",
    "# Step 7: Run Optuna for Logistic Regression, log the best model only\n",
    "def run_optuna_experiment():\n",
    "    study = optuna.create_study(direction=\"maximize\")\n",
    "    study.optimize(objective_logreg, n_trials=30)\n",
    "\n",
    "    # Get the best parameters and log only the best model\n",
    "    best_params = study.best_params\n",
    "    best_model = LogisticRegression(C=best_params['C'], penalty=best_params['penalty'], solver='liblinear', random_state=42)\n",
    "\n",
    "    # Train the best model on the resampled training set\n",
    "    best_model.fit(X_train_resampled, y_train_resampled)\n",
    "\n",
    "    # Log the best model using MLflow\n",
    "    log_mlflow(\"LogisticRegression\", best_model, X_train_resampled, X_test, y_train_resampled, y_test)\n",
    "\n",
    "# Run the experiment for Logistic Regression\n",
    "run_optuna_experiment()\n"
   ]
  }
 ],
 "metadata": {
  "kernelspec": {
   "display_name": "comment_analysis",
   "language": "python",
   "name": "python3"
  },
  "language_info": {
   "codemirror_mode": {
    "name": "ipython",
    "version": 3
   },
   "file_extension": ".py",
   "mimetype": "text/x-python",
   "name": "python",
   "nbconvert_exporter": "python",
   "pygments_lexer": "ipython3",
   "version": "3.10.9"
  }
 },
 "nbformat": 4,
 "nbformat_minor": 2
}
