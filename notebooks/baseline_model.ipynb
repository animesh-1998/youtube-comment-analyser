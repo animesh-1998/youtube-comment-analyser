{
 "cells": [
  {
   "cell_type": "code",
   "execution_count": null,
   "metadata": {},
   "outputs": [
    {
     "name": "stdout",
     "output_type": "stream",
     "text": [
      "^C\n",
      "Note: you may need to restart the kernel to use updated packages.\n"
     ]
    },
    {
     "name": "stdout",
     "output_type": "stream",
     "text": [
      "Collecting mlflow\n",
      "  Downloading mlflow-2.21.0-py3-none-any.whl.metadata (30 kB)\n",
      "Collecting mlflow-skinny==2.21.0 (from mlflow)\n",
      "  Downloading mlflow_skinny-2.21.0-py3-none-any.whl.metadata (31 kB)\n",
      "Collecting Flask<4 (from mlflow)\n",
      "  Using cached flask-3.1.0-py3-none-any.whl.metadata (2.7 kB)\n",
      "Requirement already satisfied: Jinja2<4,>=3.0 in c:\\users\\anime\\onedrive\\desktop\\data science projects\\youtube comment analysis\\comment_analysis\\lib\\site-packages (from mlflow) (3.1.6)\n",
      "Collecting alembic!=1.10.0,<2 (from mlflow)\n",
      "  Downloading alembic-1.15.1-py3-none-any.whl.metadata (7.2 kB)\n",
      "Collecting docker<8,>=4.0.0 (from mlflow)\n",
      "  Downloading docker-7.1.0-py3-none-any.whl.metadata (3.8 kB)\n",
      "Collecting graphene<4 (from mlflow)\n",
      "  Downloading graphene-3.4.3-py2.py3-none-any.whl.metadata (6.9 kB)\n",
      "Collecting markdown<4,>=3.3 (from mlflow)\n",
      "  Downloading Markdown-3.7-py3-none-any.whl.metadata (7.0 kB)\n",
      "Requirement already satisfied: matplotlib<4 in c:\\users\\anime\\onedrive\\desktop\\data science projects\\youtube comment analysis\\comment_analysis\\lib\\site-packages (from mlflow) (3.10.1)\n",
      "Requirement already satisfied: numpy<3 in c:\\users\\anime\\onedrive\\desktop\\data science projects\\youtube comment analysis\\comment_analysis\\lib\\site-packages (from mlflow) (2.2.3)\n",
      "Requirement already satisfied: pandas<3 in c:\\users\\anime\\onedrive\\desktop\\data science projects\\youtube comment analysis\\comment_analysis\\lib\\site-packages (from mlflow) (2.2.3)\n",
      "Collecting pyarrow<20,>=4.0.0 (from mlflow)\n",
      "  Downloading pyarrow-19.0.1-cp310-cp310-win_amd64.whl.metadata (3.4 kB)\n",
      "Collecting scikit-learn<2 (from mlflow)\n",
      "  Using cached scikit_learn-1.6.1-cp310-cp310-win_amd64.whl.metadata (15 kB)\n",
      "Collecting scipy<2 (from mlflow)\n",
      "  Using cached scipy-1.15.2-cp310-cp310-win_amd64.whl.metadata (60 kB)\n",
      "Collecting sqlalchemy<3,>=1.4.0 (from mlflow)\n",
      "  Downloading sqlalchemy-2.0.39-cp310-cp310-win_amd64.whl.metadata (9.9 kB)\n",
      "Collecting waitress<4 (from mlflow)\n",
      "  Downloading waitress-3.0.2-py3-none-any.whl.metadata (5.8 kB)\n",
      "Collecting cachetools<6,>=5.0.0 (from mlflow-skinny==2.21.0->mlflow)\n",
      "  Downloading cachetools-5.5.2-py3-none-any.whl.metadata (5.4 kB)\n",
      "Requirement already satisfied: click<9,>=7.0 in c:\\users\\anime\\onedrive\\desktop\\data science projects\\youtube comment analysis\\comment_analysis\\lib\\site-packages (from mlflow-skinny==2.21.0->mlflow) (8.1.8)\n",
      "Collecting cloudpickle<4 (from mlflow-skinny==2.21.0->mlflow)\n",
      "  Downloading cloudpickle-3.1.1-py3-none-any.whl.metadata (7.1 kB)\n",
      "Collecting databricks-sdk<1,>=0.20.0 (from mlflow-skinny==2.21.0->mlflow)\n",
      "  Downloading databricks_sdk-0.46.0-py3-none-any.whl.metadata (38 kB)\n",
      "Collecting fastapi<1 (from mlflow-skinny==2.21.0->mlflow)\n",
      "  Downloading fastapi-0.115.11-py3-none-any.whl.metadata (27 kB)\n",
      "Collecting gitpython<4,>=3.1.9 (from mlflow-skinny==2.21.0->mlflow)\n",
      "  Using cached GitPython-3.1.44-py3-none-any.whl.metadata (13 kB)\n",
      "Collecting importlib_metadata!=4.7.0,<9,>=3.7.0 (from mlflow-skinny==2.21.0->mlflow)\n",
      "  Downloading importlib_metadata-8.6.1-py3-none-any.whl.metadata (4.7 kB)\n",
      "Collecting opentelemetry-api<3,>=1.9.0 (from mlflow-skinny==2.21.0->mlflow)\n",
      "  Downloading opentelemetry_api-1.31.0-py3-none-any.whl.metadata (1.6 kB)\n",
      "Collecting opentelemetry-sdk<3,>=1.9.0 (from mlflow-skinny==2.21.0->mlflow)\n",
      "  Downloading opentelemetry_sdk-1.31.0-py3-none-any.whl.metadata (1.6 kB)\n",
      "Requirement already satisfied: packaging<25 in c:\\users\\anime\\onedrive\\desktop\\data science projects\\youtube comment analysis\\comment_analysis\\lib\\site-packages (from mlflow-skinny==2.21.0->mlflow) (24.2)\n",
      "Collecting protobuf<6,>=3.12.0 (from mlflow-skinny==2.21.0->mlflow)\n",
      "  Using cached protobuf-5.29.3-cp310-abi3-win_amd64.whl.metadata (592 bytes)\n",
      "Collecting pydantic<3,>=1.10.8 (from mlflow-skinny==2.21.0->mlflow)\n",
      "  Using cached pydantic-2.10.6-py3-none-any.whl.metadata (30 kB)\n",
      "Requirement already satisfied: pyyaml<7,>=5.1 in c:\\users\\anime\\onedrive\\desktop\\data science projects\\youtube comment analysis\\comment_analysis\\lib\\site-packages (from mlflow-skinny==2.21.0->mlflow) (6.0.2)\n",
      "Requirement already satisfied: requests<3,>=2.17.3 in c:\\users\\anime\\onedrive\\desktop\\data science projects\\youtube comment analysis\\comment_analysis\\lib\\site-packages (from mlflow-skinny==2.21.0->mlflow) (2.32.3)\n",
      "Collecting sqlparse<1,>=0.4.0 (from mlflow-skinny==2.21.0->mlflow)\n",
      "  Using cached sqlparse-0.5.3-py3-none-any.whl.metadata (3.9 kB)\n",
      "Requirement already satisfied: typing-extensions<5,>=4.0.0 in c:\\users\\anime\\onedrive\\desktop\\data science projects\\youtube comment analysis\\comment_analysis\\lib\\site-packages (from mlflow-skinny==2.21.0->mlflow) (4.12.2)\n",
      "Collecting uvicorn<1 (from mlflow-skinny==2.21.0->mlflow)\n",
      "  Using cached uvicorn-0.34.0-py3-none-any.whl.metadata (6.5 kB)\n",
      "Collecting Mako (from alembic!=1.10.0,<2->mlflow)\n",
      "  Downloading Mako-1.3.9-py3-none-any.whl.metadata (2.9 kB)\n",
      "Requirement already satisfied: pywin32>=304 in c:\\users\\anime\\onedrive\\desktop\\data science projects\\youtube comment analysis\\comment_analysis\\lib\\site-packages (from docker<8,>=4.0.0->mlflow) (309)\n",
      "Requirement already satisfied: urllib3>=1.26.0 in c:\\users\\anime\\onedrive\\desktop\\data science projects\\youtube comment analysis\\comment_analysis\\lib\\site-packages (from docker<8,>=4.0.0->mlflow) (2.3.0)\n",
      "Collecting Werkzeug>=3.1 (from Flask<4->mlflow)\n",
      "  Using cached werkzeug-3.1.3-py3-none-any.whl.metadata (3.7 kB)\n",
      "Collecting itsdangerous>=2.2 (from Flask<4->mlflow)\n",
      "  Using cached itsdangerous-2.2.0-py3-none-any.whl.metadata (1.9 kB)\n",
      "Collecting blinker>=1.9 (from Flask<4->mlflow)\n",
      "  Using cached blinker-1.9.0-py3-none-any.whl.metadata (1.6 kB)\n",
      "Collecting graphql-core<3.3,>=3.1 (from graphene<4->mlflow)\n",
      "  Downloading graphql_core-3.2.6-py3-none-any.whl.metadata (11 kB)\n",
      "Collecting graphql-relay<3.3,>=3.1 (from graphene<4->mlflow)\n",
      "  Downloading graphql_relay-3.2.0-py3-none-any.whl.metadata (12 kB)\n",
      "Requirement already satisfied: python-dateutil<3,>=2.7.0 in c:\\users\\anime\\onedrive\\desktop\\data science projects\\youtube comment analysis\\comment_analysis\\lib\\site-packages (from graphene<4->mlflow) (2.9.0.post0)\n",
      "Requirement already satisfied: MarkupSafe>=2.0 in c:\\users\\anime\\onedrive\\desktop\\data science projects\\youtube comment analysis\\comment_analysis\\lib\\site-packages (from Jinja2<4,>=3.0->mlflow) (3.0.2)\n",
      "Requirement already satisfied: contourpy>=1.0.1 in c:\\users\\anime\\onedrive\\desktop\\data science projects\\youtube comment analysis\\comment_analysis\\lib\\site-packages (from matplotlib<4->mlflow) (1.3.1)\n",
      "Requirement already satisfied: cycler>=0.10 in c:\\users\\anime\\onedrive\\desktop\\data science projects\\youtube comment analysis\\comment_analysis\\lib\\site-packages (from matplotlib<4->mlflow) (0.12.1)\n",
      "Requirement already satisfied: fonttools>=4.22.0 in c:\\users\\anime\\onedrive\\desktop\\data science projects\\youtube comment analysis\\comment_analysis\\lib\\site-packages (from matplotlib<4->mlflow) (4.56.0)\n",
      "Requirement already satisfied: kiwisolver>=1.3.1 in c:\\users\\anime\\onedrive\\desktop\\data science projects\\youtube comment analysis\\comment_analysis\\lib\\site-packages (from matplotlib<4->mlflow) (1.4.8)\n",
      "Requirement already satisfied: pillow>=8 in c:\\users\\anime\\onedrive\\desktop\\data science projects\\youtube comment analysis\\comment_analysis\\lib\\site-packages (from matplotlib<4->mlflow) (11.1.0)\n",
      "Requirement already satisfied: pyparsing>=2.3.1 in c:\\users\\anime\\onedrive\\desktop\\data science projects\\youtube comment analysis\\comment_analysis\\lib\\site-packages (from matplotlib<4->mlflow) (3.2.1)\n",
      "Requirement already satisfied: pytz>=2020.1 in c:\\users\\anime\\onedrive\\desktop\\data science projects\\youtube comment analysis\\comment_analysis\\lib\\site-packages (from pandas<3->mlflow) (2025.1)\n",
      "Requirement already satisfied: tzdata>=2022.7 in c:\\users\\anime\\onedrive\\desktop\\data science projects\\youtube comment analysis\\comment_analysis\\lib\\site-packages (from pandas<3->mlflow) (2025.1)\n",
      "Collecting joblib>=1.2.0 (from scikit-learn<2->mlflow)\n",
      "  Using cached joblib-1.4.2-py3-none-any.whl.metadata (5.4 kB)\n",
      "Collecting threadpoolctl>=3.1.0 (from scikit-learn<2->mlflow)\n",
      "  Downloading threadpoolctl-3.6.0-py3-none-any.whl.metadata (13 kB)\n",
      "Collecting greenlet!=0.4.17 (from sqlalchemy<3,>=1.4.0->mlflow)\n",
      "  Using cached greenlet-3.1.1-cp310-cp310-win_amd64.whl.metadata (3.9 kB)\n",
      "Requirement already satisfied: colorama in c:\\users\\anime\\onedrive\\desktop\\data science projects\\youtube comment analysis\\comment_analysis\\lib\\site-packages (from click<9,>=7.0->mlflow-skinny==2.21.0->mlflow) (0.4.6)\n",
      "Collecting google-auth~=2.0 (from databricks-sdk<1,>=0.20.0->mlflow-skinny==2.21.0->mlflow)\n",
      "  Using cached google_auth-2.38.0-py2.py3-none-any.whl.metadata (4.8 kB)\n",
      "Collecting starlette<0.47.0,>=0.40.0 (from fastapi<1->mlflow-skinny==2.21.0->mlflow)\n",
      "  Downloading starlette-0.46.1-py3-none-any.whl.metadata (6.2 kB)\n",
      "Collecting gitdb<5,>=4.0.1 (from gitpython<4,>=3.1.9->mlflow-skinny==2.21.0->mlflow)\n",
      "  Using cached gitdb-4.0.12-py3-none-any.whl.metadata (1.2 kB)\n",
      "Collecting zipp>=3.20 (from importlib_metadata!=4.7.0,<9,>=3.7.0->mlflow-skinny==2.21.0->mlflow)\n",
      "  Downloading zipp-3.21.0-py3-none-any.whl.metadata (3.7 kB)\n",
      "Collecting deprecated>=1.2.6 (from opentelemetry-api<3,>=1.9.0->mlflow-skinny==2.21.0->mlflow)\n",
      "  Downloading Deprecated-1.2.18-py2.py3-none-any.whl.metadata (5.7 kB)\n",
      "Collecting opentelemetry-semantic-conventions==0.52b0 (from opentelemetry-sdk<3,>=1.9.0->mlflow-skinny==2.21.0->mlflow)\n",
      "  Downloading opentelemetry_semantic_conventions-0.52b0-py3-none-any.whl.metadata (2.5 kB)\n",
      "Collecting annotated-types>=0.6.0 (from pydantic<3,>=1.10.8->mlflow-skinny==2.21.0->mlflow)\n",
      "  Using cached annotated_types-0.7.0-py3-none-any.whl.metadata (15 kB)\n",
      "Collecting pydantic-core==2.27.2 (from pydantic<3,>=1.10.8->mlflow-skinny==2.21.0->mlflow)\n",
      "  Using cached pydantic_core-2.27.2-cp310-cp310-win_amd64.whl.metadata (6.7 kB)\n",
      "Requirement already satisfied: six>=1.5 in c:\\users\\anime\\onedrive\\desktop\\data science projects\\youtube comment analysis\\comment_analysis\\lib\\site-packages (from python-dateutil<3,>=2.7.0->graphene<4->mlflow) (1.17.0)\n",
      "Requirement already satisfied: charset-normalizer<4,>=2 in c:\\users\\anime\\onedrive\\desktop\\data science projects\\youtube comment analysis\\comment_analysis\\lib\\site-packages (from requests<3,>=2.17.3->mlflow-skinny==2.21.0->mlflow) (3.4.1)\n",
      "Requirement already satisfied: idna<4,>=2.5 in c:\\users\\anime\\onedrive\\desktop\\data science projects\\youtube comment analysis\\comment_analysis\\lib\\site-packages (from requests<3,>=2.17.3->mlflow-skinny==2.21.0->mlflow) (3.10)\n",
      "Requirement already satisfied: certifi>=2017.4.17 in c:\\users\\anime\\onedrive\\desktop\\data science projects\\youtube comment analysis\\comment_analysis\\lib\\site-packages (from requests<3,>=2.17.3->mlflow-skinny==2.21.0->mlflow) (2025.1.31)\n",
      "Collecting h11>=0.8 (from uvicorn<1->mlflow-skinny==2.21.0->mlflow)\n",
      "  Using cached h11-0.14.0-py3-none-any.whl.metadata (8.2 kB)\n",
      "Collecting wrapt<2,>=1.10 (from deprecated>=1.2.6->opentelemetry-api<3,>=1.9.0->mlflow-skinny==2.21.0->mlflow)\n",
      "  Downloading wrapt-1.17.2-cp310-cp310-win_amd64.whl.metadata (6.5 kB)\n",
      "Collecting smmap<6,>=3.0.1 (from gitdb<5,>=4.0.1->gitpython<4,>=3.1.9->mlflow-skinny==2.21.0->mlflow)\n",
      "  Using cached smmap-5.0.2-py3-none-any.whl.metadata (4.3 kB)\n",
      "Collecting pyasn1-modules>=0.2.1 (from google-auth~=2.0->databricks-sdk<1,>=0.20.0->mlflow-skinny==2.21.0->mlflow)\n",
      "  Using cached pyasn1_modules-0.4.1-py3-none-any.whl.metadata (3.5 kB)\n",
      "Requirement already satisfied: rsa<5,>=3.1.4 in c:\\users\\anime\\onedrive\\desktop\\data science projects\\youtube comment analysis\\comment_analysis\\lib\\site-packages (from google-auth~=2.0->databricks-sdk<1,>=0.20.0->mlflow-skinny==2.21.0->mlflow) (4.7.2)\n",
      "Collecting anyio<5,>=3.6.2 (from starlette<0.47.0,>=0.40.0->fastapi<1->mlflow-skinny==2.21.0->mlflow)\n",
      "  Using cached anyio-4.8.0-py3-none-any.whl.metadata (4.6 kB)\n",
      "Requirement already satisfied: exceptiongroup>=1.0.2 in c:\\users\\anime\\onedrive\\desktop\\data science projects\\youtube comment analysis\\comment_analysis\\lib\\site-packages (from anyio<5,>=3.6.2->starlette<0.47.0,>=0.40.0->fastapi<1->mlflow-skinny==2.21.0->mlflow) (1.2.2)\n",
      "Collecting sniffio>=1.1 (from anyio<5,>=3.6.2->starlette<0.47.0,>=0.40.0->fastapi<1->mlflow-skinny==2.21.0->mlflow)\n",
      "  Using cached sniffio-1.3.1-py3-none-any.whl.metadata (3.9 kB)\n",
      "Requirement already satisfied: pyasn1<0.7.0,>=0.4.6 in c:\\users\\anime\\onedrive\\desktop\\data science projects\\youtube comment analysis\\comment_analysis\\lib\\site-packages (from pyasn1-modules>=0.2.1->google-auth~=2.0->databricks-sdk<1,>=0.20.0->mlflow-skinny==2.21.0->mlflow) (0.6.1)\n",
      "Downloading mlflow-2.21.0-py3-none-any.whl (28.2 MB)\n",
      "   ---------------------------------------- 0.0/28.2 MB ? eta -:--:--\n",
      "   ---------------------------------------- 0.0/28.2 MB ? eta -:--:--\n",
      "    --------------------------------------- 0.5/28.2 MB 3.4 MB/s eta 0:00:09\n",
      "   - -------------------------------------- 1.0/28.2 MB 2.3 MB/s eta 0:00:12\n",
      "   -- ------------------------------------- 1.6/28.2 MB 2.7 MB/s eta 0:00:10\n",
      "   -- ------------------------------------- 1.8/28.2 MB 2.0 MB/s eta 0:00:14\n",
      "   -- ------------------------------------- 2.1/28.2 MB 1.9 MB/s eta 0:00:14\n",
      "   --- ------------------------------------ 2.4/28.2 MB 1.8 MB/s eta 0:00:15\n",
      "   ---- ----------------------------------- 2.9/28.2 MB 1.9 MB/s eta 0:00:14\n",
      "   ---- ----------------------------------- 3.1/28.2 MB 1.8 MB/s eta 0:00:15\n",
      "   ----- ---------------------------------- 3.7/28.2 MB 1.9 MB/s eta 0:00:14\n",
      "   ----- ---------------------------------- 4.2/28.2 MB 1.9 MB/s eta 0:00:13\n",
      "   ------ --------------------------------- 4.5/28.2 MB 2.0 MB/s eta 0:00:12\n",
      "   ------ --------------------------------- 4.7/28.2 MB 1.9 MB/s eta 0:00:13\n",
      "   ------- -------------------------------- 5.0/28.2 MB 1.8 MB/s eta 0:00:13\n",
      "   ------- -------------------------------- 5.5/28.2 MB 1.9 MB/s eta 0:00:13\n",
      "   ------- -------------------------------- 5.5/28.2 MB 1.9 MB/s eta 0:00:13\n",
      "   -------- ------------------------------- 5.8/28.2 MB 1.7 MB/s eta 0:00:14\n",
      "   -------- ------------------------------- 6.3/28.2 MB 1.7 MB/s eta 0:00:13\n",
      "   --------- ------------------------------ 6.6/28.2 MB 1.7 MB/s eta 0:00:13\n",
      "   --------- ------------------------------ 6.8/28.2 MB 1.7 MB/s eta 0:00:13\n",
      "   ---------- ----------------------------- 7.1/28.2 MB 1.7 MB/s eta 0:00:13\n",
      "   ---------- ----------------------------- 7.3/28.2 MB 1.7 MB/s eta 0:00:13\n",
      "   ---------- ----------------------------- 7.6/28.2 MB 1.6 MB/s eta 0:00:13\n",
      "   ----------- ---------------------------- 8.1/28.2 MB 1.7 MB/s eta 0:00:13\n",
      "   ----------- ---------------------------- 8.1/28.2 MB 1.7 MB/s eta 0:00:13\n",
      "   ------------ --------------------------- 8.7/28.2 MB 1.6 MB/s eta 0:00:12\n",
      "   ------------ --------------------------- 8.7/28.2 MB 1.6 MB/s eta 0:00:12\n",
      "   ------------- -------------------------- 9.2/28.2 MB 1.6 MB/s eta 0:00:12\n",
      "   ------------- -------------------------- 9.4/28.2 MB 1.6 MB/s eta 0:00:12\n",
      "   -------------- ------------------------- 10.0/28.2 MB 1.6 MB/s eta 0:00:12\n",
      "   -------------- ------------------------- 10.2/28.2 MB 1.6 MB/s eta 0:00:12\n",
      "   -------------- ------------------------- 10.2/28.2 MB 1.6 MB/s eta 0:00:12\n",
      "   -------------- ------------------------- 10.5/28.2 MB 1.6 MB/s eta 0:00:12\n",
      "   --------------- ------------------------ 10.7/28.2 MB 1.6 MB/s eta 0:00:12\n",
      "   ---------------- ----------------------- 11.3/28.2 MB 1.6 MB/s eta 0:00:11\n",
      "   ---------------- ----------------------- 11.8/28.2 MB 1.6 MB/s eta 0:00:11\n",
      "   ----------------- ---------------------- 12.3/28.2 MB 1.6 MB/s eta 0:00:10\n",
      "   ----------------- ---------------------- 12.6/28.2 MB 1.6 MB/s eta 0:00:10\n",
      "   ------------------ --------------------- 12.8/28.2 MB 1.6 MB/s eta 0:00:10\n",
      "   ------------------ --------------------- 13.1/28.2 MB 1.6 MB/s eta 0:00:10\n",
      "   ------------------- -------------------- 13.6/28.2 MB 1.6 MB/s eta 0:00:09\n",
      "   ------------------- -------------------- 13.9/28.2 MB 1.6 MB/s eta 0:00:09\n",
      "   -------------------- ------------------- 14.2/28.2 MB 1.6 MB/s eta 0:00:09\n",
      "   -------------------- ------------------- 14.4/28.2 MB 1.6 MB/s eta 0:00:09\n",
      "   -------------------- ------------------- 14.7/28.2 MB 1.6 MB/s eta 0:00:09\n",
      "   --------------------- ------------------ 15.2/28.2 MB 1.6 MB/s eta 0:00:09\n",
      "   ---------------------- ----------------- 15.7/28.2 MB 1.6 MB/s eta 0:00:08\n",
      "   ----------------------- ---------------- 16.3/28.2 MB 1.6 MB/s eta 0:00:08\n",
      "   ----------------------- ---------------- 16.5/28.2 MB 1.6 MB/s eta 0:00:08\n",
      "   ----------------------- ---------------- 16.5/28.2 MB 1.6 MB/s eta 0:00:08\n",
      "   ----------------------- ---------------- 16.8/28.2 MB 1.6 MB/s eta 0:00:08\n",
      "   ------------------------ --------------- 17.3/28.2 MB 1.6 MB/s eta 0:00:07\n",
      "   ------------------------ --------------- 17.6/28.2 MB 1.6 MB/s eta 0:00:07\n",
      "   ------------------------- -------------- 18.1/28.2 MB 1.6 MB/s eta 0:00:07\n",
      "   ------------------------- -------------- 18.1/28.2 MB 1.6 MB/s eta 0:00:07\n",
      "   -------------------------- ------------- 18.4/28.2 MB 1.6 MB/s eta 0:00:07\n",
      "   -------------------------- ------------- 18.4/28.2 MB 1.6 MB/s eta 0:00:07\n",
      "   -------------------------- ------------- 18.4/28.2 MB 1.6 MB/s eta 0:00:07\n",
      "   -------------------------- ------------- 18.6/28.2 MB 1.6 MB/s eta 0:00:07\n",
      "   -------------------------- ------------- 18.6/28.2 MB 1.6 MB/s eta 0:00:07\n",
      "   -------------------------- ------------- 18.6/28.2 MB 1.6 MB/s eta 0:00:07\n",
      "   -------------------------- ------------- 18.9/28.2 MB 1.5 MB/s eta 0:00:07\n",
      "   --------------------------- ------------ 19.1/28.2 MB 1.5 MB/s eta 0:00:07\n",
      "   --------------------------- ------------ 19.4/28.2 MB 1.5 MB/s eta 0:00:06\n",
      "   --------------------------- ------------ 19.4/28.2 MB 1.5 MB/s eta 0:00:06\n",
      "   --------------------------- ------------ 19.7/28.2 MB 1.5 MB/s eta 0:00:06\n",
      "   ---------------------------- ----------- 19.9/28.2 MB 1.5 MB/s eta 0:00:06\n",
      "   ---------------------------- ----------- 20.2/28.2 MB 1.4 MB/s eta 0:00:06\n",
      "   ----------------------------- ---------- 20.4/28.2 MB 1.5 MB/s eta 0:00:06\n",
      "   ----------------------------- ---------- 20.7/28.2 MB 1.5 MB/s eta 0:00:06\n",
      "   ------------------------------ --------- 21.2/28.2 MB 1.5 MB/s eta 0:00:05\n",
      "   ------------------------------ --------- 21.5/28.2 MB 1.5 MB/s eta 0:00:05\n",
      "   ------------------------------ --------- 21.8/28.2 MB 1.5 MB/s eta 0:00:05\n",
      "   ------------------------------- -------- 22.0/28.2 MB 1.5 MB/s eta 0:00:05\n",
      "   ------------------------------- -------- 22.3/28.2 MB 1.5 MB/s eta 0:00:05\n",
      "   -------------------------------- ------- 22.8/28.2 MB 1.5 MB/s eta 0:00:04\n",
      "   --------------------------------- ------ 23.3/28.2 MB 1.5 MB/s eta 0:00:04\n",
      "   --------------------------------- ------ 23.6/28.2 MB 1.5 MB/s eta 0:00:04\n",
      "   --------------------------------- ------ 23.9/28.2 MB 1.5 MB/s eta 0:00:03\n",
      "   ---------------------------------- ----- 24.4/28.2 MB 1.5 MB/s eta 0:00:03\n",
      "   ----------------------------------- ---- 24.9/28.2 MB 1.5 MB/s eta 0:00:03\n",
      "   ----------------------------------- ---- 24.9/28.2 MB 1.5 MB/s eta 0:00:03\n",
      "   ----------------------------------- ---- 25.2/28.2 MB 1.5 MB/s eta 0:00:03\n",
      "   ------------------------------------ --- 25.4/28.2 MB 1.5 MB/s eta 0:00:02\n",
      "   ------------------------------------ --- 25.7/28.2 MB 1.5 MB/s eta 0:00:02\n",
      "   ------------------------------------ --- 26.0/28.2 MB 1.5 MB/s eta 0:00:02\n",
      "   ------------------------------------- -- 26.2/28.2 MB 1.5 MB/s eta 0:00:02\n",
      "   ------------------------------------- -- 26.2/28.2 MB 1.5 MB/s eta 0:00:02\n",
      "   ------------------------------------- -- 26.5/28.2 MB 1.5 MB/s eta 0:00:02\n",
      "   ------------------------------------- -- 26.7/28.2 MB 1.4 MB/s eta 0:00:01\n",
      "   -------------------------------------- - 27.0/28.2 MB 1.4 MB/s eta 0:00:01\n",
      "   -------------------------------------- - 27.0/28.2 MB 1.4 MB/s eta 0:00:01\n",
      "   ---------------------------------------  27.5/28.2 MB 1.4 MB/s eta 0:00:01\n",
      "   ---------------------------------------  27.5/28.2 MB 1.4 MB/s eta 0:00:01\n",
      "   ---------------------------------------  28.0/28.2 MB 1.4 MB/s eta 0:00:01\n",
      "   ---------------------------------------  28.0/28.2 MB 1.4 MB/s eta 0:00:01\n",
      "   ---------------------------------------- 28.2/28.2 MB 1.4 MB/s eta 0:00:00\n",
      "Downloading mlflow_skinny-2.21.0-py3-none-any.whl (6.1 MB)\n",
      "   ---------------------------------------- 0.0/6.1 MB ? eta -:--:--\n",
      "   ---------------------------------------- 0.0/6.1 MB ? eta -:--:--\n",
      "   ---------------------------------------- 0.0/6.1 MB ? eta -:--:--\n",
      "   - -------------------------------------- 0.3/6.1 MB ? eta -:--:--\n",
      "   - -------------------------------------- 0.3/6.1 MB ? eta -:--:--\n",
      "   --- ------------------------------------ 0.5/6.1 MB 466.4 kB/s eta 0:00:13\n",
      "   --- ------------------------------------ 0.5/6.1 MB 466.4 kB/s eta 0:00:13\n",
      "   ----- ---------------------------------- 0.8/6.1 MB 633.2 kB/s eta 0:00:09\n",
      "   ------ --------------------------------- 1.0/6.1 MB 671.0 kB/s eta 0:00:08\n",
      "   ------ --------------------------------- 1.0/6.1 MB 671.0 kB/s eta 0:00:08\n",
      "   ------ --------------------------------- 1.0/6.1 MB 671.0 kB/s eta 0:00:08\n",
      "   -------- ------------------------------- 1.3/6.1 MB 604.7 kB/s eta 0:00:08\n",
      "   -------- ------------------------------- 1.3/6.1 MB 604.7 kB/s eta 0:00:08\n",
      "   ---------- ----------------------------- 1.6/6.1 MB 582.5 kB/s eta 0:00:08\n",
      "   ---------- ----------------------------- 1.6/6.1 MB 582.5 kB/s eta 0:00:08\n",
      "   ---------- ----------------------------- 1.6/6.1 MB 582.5 kB/s eta 0:00:08\n",
      "   ---------- ----------------------------- 1.6/6.1 MB 582.5 kB/s eta 0:00:08\n",
      "   ----------- ---------------------------- 1.8/6.1 MB 516.2 kB/s eta 0:00:09\n",
      "   ----------- ---------------------------- 1.8/6.1 MB 516.2 kB/s eta 0:00:09\n",
      "   ----------- ---------------------------- 1.8/6.1 MB 516.2 kB/s eta 0:00:09\n",
      "   ------------- -------------------------- 2.1/6.1 MB 508.5 kB/s eta 0:00:08\n",
      "   ------------- -------------------------- 2.1/6.1 MB 508.5 kB/s eta 0:00:08\n",
      "   --------------- ------------------------ 2.4/6.1 MB 510.4 kB/s eta 0:00:08\n",
      "   --------------- ------------------------ 2.4/6.1 MB 510.4 kB/s eta 0:00:08\n",
      "   ----------------- ---------------------- 2.6/6.1 MB 520.7 kB/s eta 0:00:07\n",
      "   ----------------- ---------------------- 2.6/6.1 MB 520.7 kB/s eta 0:00:07\n",
      "   ------------------ --------------------- 2.9/6.1 MB 539.5 kB/s eta 0:00:07\n",
      "   -------------------- ------------------- 3.1/6.1 MB 552.6 kB/s eta 0:00:06\n",
      "   -------------------- ------------------- 3.1/6.1 MB 552.6 kB/s eta 0:00:06\n",
      "   ---------------------- ----------------- 3.4/6.1 MB 565.6 kB/s eta 0:00:05\n",
      "   ------------------------- -------------- 3.9/6.1 MB 631.5 kB/s eta 0:00:04\n",
      "   --------------------------- ------------ 4.2/6.1 MB 658.9 kB/s eta 0:00:03\n",
      "   ------------------------------ --------- 4.7/6.1 MB 725.8 kB/s eta 0:00:02\n",
      "   -------------------------------- ------- 5.0/6.1 MB 743.9 kB/s eta 0:00:02\n",
      "   ----------------------------------- ---- 5.5/6.1 MB 797.0 kB/s eta 0:00:01\n",
      "   ------------------------------------- -- 5.8/6.1 MB 815.6 kB/s eta 0:00:01\n",
      "   ---------------------------------------- 6.1/6.1 MB 826.7 kB/s eta 0:00:00\n",
      "Downloading alembic-1.15.1-py3-none-any.whl (231 kB)\n",
      "Downloading docker-7.1.0-py3-none-any.whl (147 kB)\n",
      "Using cached flask-3.1.0-py3-none-any.whl (102 kB)\n",
      "Downloading graphene-3.4.3-py2.py3-none-any.whl (114 kB)\n",
      "Downloading Markdown-3.7-py3-none-any.whl (106 kB)\n",
      "Downloading pyarrow-19.0.1-cp310-cp310-win_amd64.whl (25.3 MB)\n",
      "   ---------------------------------------- 0.0/25.3 MB ? eta -:--:--\n",
      "   ---------------------------------------- 0.3/25.3 MB ? eta -:--:--\n",
      "   - -------------------------------------- 0.8/25.3 MB 1.5 MB/s eta 0:00:17\n",
      "   - -------------------------------------- 1.0/25.3 MB 1.4 MB/s eta 0:00:18\n",
      "   - -------------------------------------- 1.0/25.3 MB 1.4 MB/s eta 0:00:18\n",
      "   -- ------------------------------------- 1.3/25.3 MB 1.1 MB/s eta 0:00:22\n",
      "   -- ------------------------------------- 1.6/25.3 MB 1.2 MB/s eta 0:00:21\n",
      "   -- ------------------------------------- 1.8/25.3 MB 1.3 MB/s eta 0:00:19\n",
      "   --- ------------------------------------ 2.4/25.3 MB 1.3 MB/s eta 0:00:18\n",
      "   ---- ----------------------------------- 2.6/25.3 MB 1.4 MB/s eta 0:00:16\n",
      "   ---- ----------------------------------- 2.9/25.3 MB 1.4 MB/s eta 0:00:16\n",
      "   ---- ----------------------------------- 3.1/25.3 MB 1.3 MB/s eta 0:00:18\n",
      "   ---- ----------------------------------- 3.1/25.3 MB 1.3 MB/s eta 0:00:18\n",
      "   ----- ---------------------------------- 3.4/25.3 MB 1.2 MB/s eta 0:00:18\n",
      "   ----- ---------------------------------- 3.7/25.3 MB 1.2 MB/s eta 0:00:18\n",
      "   ------ --------------------------------- 4.2/25.3 MB 1.3 MB/s eta 0:00:17\n",
      "   ------ --------------------------------- 4.2/25.3 MB 1.3 MB/s eta 0:00:17\n",
      "   ------- -------------------------------- 4.5/25.3 MB 1.2 MB/s eta 0:00:17\n",
      "   ------- -------------------------------- 4.7/25.3 MB 1.3 MB/s eta 0:00:17\n",
      "   ------- -------------------------------- 5.0/25.3 MB 1.2 MB/s eta 0:00:17\n",
      "   -------- ------------------------------- 5.2/25.3 MB 1.3 MB/s eta 0:00:16\n",
      "   -------- ------------------------------- 5.5/25.3 MB 1.3 MB/s eta 0:00:16\n",
      "   --------- ------------------------------ 5.8/25.3 MB 1.2 MB/s eta 0:00:16\n",
      "   --------- ------------------------------ 6.0/25.3 MB 1.2 MB/s eta 0:00:16\n",
      "   ---------- ----------------------------- 6.6/25.3 MB 1.3 MB/s eta 0:00:15\n",
      "   ---------- ----------------------------- 6.6/25.3 MB 1.3 MB/s eta 0:00:15\n",
      "   ----------- ---------------------------- 7.1/25.3 MB 1.3 MB/s eta 0:00:15\n",
      "   ----------- ---------------------------- 7.3/25.3 MB 1.3 MB/s eta 0:00:14\n",
      "   ------------ --------------------------- 7.6/25.3 MB 1.3 MB/s eta 0:00:14\n",
      "   ------------ --------------------------- 8.1/25.3 MB 1.3 MB/s eta 0:00:14\n",
      "   ------------- -------------------------- 8.7/25.3 MB 1.3 MB/s eta 0:00:13\n",
      "   -------------- ------------------------- 8.9/25.3 MB 1.3 MB/s eta 0:00:13\n",
      "   -------------- ------------------------- 9.2/25.3 MB 1.3 MB/s eta 0:00:13\n",
      "   -------------- ------------------------- 9.2/25.3 MB 1.3 MB/s eta 0:00:13\n",
      "   --------------- ------------------------ 10.0/25.3 MB 1.4 MB/s eta 0:00:12\n",
      "   ---------------- ----------------------- 10.2/25.3 MB 1.4 MB/s eta 0:00:11\n",
      "   ---------------- ----------------------- 10.5/25.3 MB 1.4 MB/s eta 0:00:11\n",
      "   ----------------- ---------------------- 11.0/25.3 MB 1.4 MB/s eta 0:00:11\n",
      "   ----------------- ---------------------- 11.3/25.3 MB 1.4 MB/s eta 0:00:11\n",
      "   ------------------ --------------------- 11.5/25.3 MB 1.4 MB/s eta 0:00:10\n",
      "   ------------------- -------------------- 12.1/25.3 MB 1.4 MB/s eta 0:00:10\n",
      "   ------------------- -------------------- 12.6/25.3 MB 1.4 MB/s eta 0:00:09\n",
      "   -------------------- ------------------- 12.8/25.3 MB 1.5 MB/s eta 0:00:09\n",
      "   -------------------- ------------------- 13.1/25.3 MB 1.5 MB/s eta 0:00:09\n",
      "   --------------------- ------------------ 13.4/25.3 MB 1.4 MB/s eta 0:00:09\n",
      "   --------------------- ------------------ 13.4/25.3 MB 1.4 MB/s eta 0:00:09\n",
      "   --------------------- ------------------ 13.6/25.3 MB 1.4 MB/s eta 0:00:09\n",
      "   --------------------- ------------------ 13.6/25.3 MB 1.4 MB/s eta 0:00:09\n",
      "   ---------------------- ----------------- 14.2/25.3 MB 1.4 MB/s eta 0:00:09\n",
      "   ---------------------- ----------------- 14.2/25.3 MB 1.4 MB/s eta 0:00:09\n",
      "   ---------------------- ----------------- 14.4/25.3 MB 1.4 MB/s eta 0:00:08\n",
      "   ----------------------- ---------------- 14.7/25.3 MB 1.4 MB/s eta 0:00:08\n",
      "   ----------------------- ---------------- 14.9/25.3 MB 1.4 MB/s eta 0:00:08\n",
      "   ------------------------ --------------- 15.2/25.3 MB 1.4 MB/s eta 0:00:08\n",
      "   ------------------------ --------------- 15.2/25.3 MB 1.4 MB/s eta 0:00:08\n",
      "   ------------------------ --------------- 15.5/25.3 MB 1.3 MB/s eta 0:00:08\n",
      "   ------------------------ --------------- 15.5/25.3 MB 1.3 MB/s eta 0:00:08\n",
      "   ------------------------ --------------- 15.7/25.3 MB 1.3 MB/s eta 0:00:08\n",
      "   ------------------------- -------------- 16.0/25.3 MB 1.3 MB/s eta 0:00:08\n",
      "   ------------------------- -------------- 16.0/25.3 MB 1.3 MB/s eta 0:00:08\n",
      "   ------------------------- -------------- 16.3/25.3 MB 1.3 MB/s eta 0:00:07\n",
      "   ------------------------- -------------- 16.3/25.3 MB 1.3 MB/s eta 0:00:07\n",
      "   -------------------------- ------------- 16.5/25.3 MB 1.3 MB/s eta 0:00:07\n",
      "   -------------------------- ------------- 16.5/25.3 MB 1.3 MB/s eta 0:00:07\n",
      "   -------------------------- ------------- 16.8/25.3 MB 1.2 MB/s eta 0:00:07\n",
      "   -------------------------- ------------- 16.8/25.3 MB 1.2 MB/s eta 0:00:07\n",
      "   -------------------------- ------------- 16.8/25.3 MB 1.2 MB/s eta 0:00:07\n",
      "   -------------------------- ------------- 17.0/25.3 MB 1.2 MB/s eta 0:00:07\n",
      "   -------------------------- ------------- 17.0/25.3 MB 1.2 MB/s eta 0:00:07\n",
      "   -------------------------- ------------- 17.0/25.3 MB 1.2 MB/s eta 0:00:07\n",
      "   --------------------------- ------------ 17.3/25.3 MB 1.2 MB/s eta 0:00:07\n",
      "   --------------------------- ------------ 17.3/25.3 MB 1.2 MB/s eta 0:00:07\n",
      "   --------------------------- ------------ 17.3/25.3 MB 1.2 MB/s eta 0:00:07\n",
      "   --------------------------- ------------ 17.3/25.3 MB 1.2 MB/s eta 0:00:07\n",
      "   --------------------------- ------------ 17.6/25.3 MB 1.1 MB/s eta 0:00:07\n",
      "   --------------------------- ------------ 17.6/25.3 MB 1.1 MB/s eta 0:00:07\n",
      "   ---------------------------- ----------- 17.8/25.3 MB 1.1 MB/s eta 0:00:07\n",
      "   ---------------------------- ----------- 17.8/25.3 MB 1.1 MB/s eta 0:00:07\n",
      "   ---------------------------- ----------- 17.8/25.3 MB 1.1 MB/s eta 0:00:07\n",
      "   ---------------------------- ----------- 18.1/25.3 MB 1.1 MB/s eta 0:00:07\n",
      "   ---------------------------- ----------- 18.1/25.3 MB 1.1 MB/s eta 0:00:07\n",
      "   ---------------------------- ----------- 18.1/25.3 MB 1.1 MB/s eta 0:00:07\n",
      "   ----------------------------- ---------- 18.4/25.3 MB 1.1 MB/s eta 0:00:07\n",
      "   ----------------------------- ---------- 18.4/25.3 MB 1.1 MB/s eta 0:00:07\n",
      "   ----------------------------- ---------- 18.6/25.3 MB 1.1 MB/s eta 0:00:07\n",
      "   ----------------------------- ---------- 18.6/25.3 MB 1.1 MB/s eta 0:00:07\n",
      "   ----------------------------- ---------- 18.9/25.3 MB 1.1 MB/s eta 0:00:07\n",
      "   ------------------------------ --------- 19.1/25.3 MB 1.0 MB/s eta 0:00:06\n",
      "   ------------------------------ --------- 19.4/25.3 MB 1.0 MB/s eta 0:00:06\n",
      "   ------------------------------ --------- 19.4/25.3 MB 1.0 MB/s eta 0:00:06\n",
      "   ------------------------------- -------- 19.7/25.3 MB 1.0 MB/s eta 0:00:06\n",
      "   ------------------------------- -------- 19.9/25.3 MB 1.0 MB/s eta 0:00:06\n",
      "   ------------------------------- -------- 20.2/25.3 MB 1.0 MB/s eta 0:00:05\n",
      "   -------------------------------- ------- 20.4/25.3 MB 1.0 MB/s eta 0:00:05\n",
      "   -------------------------------- ------- 20.4/25.3 MB 1.0 MB/s eta 0:00:05\n",
      "   -------------------------------- ------- 20.4/25.3 MB 1.0 MB/s eta 0:00:05\n",
      "   -------------------------------- ------- 20.7/25.3 MB 1.0 MB/s eta 0:00:05\n",
      "   --------------------------------- ------ 21.0/25.3 MB 1.0 MB/s eta 0:00:05\n",
      "   --------------------------------- ------ 21.0/25.3 MB 1.0 MB/s eta 0:00:05\n",
      "   ---------------------------------- ----- 21.5/25.3 MB 1.0 MB/s eta 0:00:04\n",
      "   ---------------------------------- ----- 21.5/25.3 MB 1.0 MB/s eta 0:00:04\n",
      "   ---------------------------------- ----- 22.0/25.3 MB 1.0 MB/s eta 0:00:04\n",
      "   ---------------------------------- ----- 22.0/25.3 MB 1.0 MB/s eta 0:00:04\n",
      "   ----------------------------------- ---- 22.3/25.3 MB 1.0 MB/s eta 0:00:03\n",
      "   ------------------------------------ --- 22.8/25.3 MB 1.0 MB/s eta 0:00:03\n",
      "   ------------------------------------ --- 23.1/25.3 MB 1.1 MB/s eta 0:00:03\n",
      "   ------------------------------------ --- 23.1/25.3 MB 1.1 MB/s eta 0:00:03\n",
      "   ------------------------------------ --- 23.3/25.3 MB 1.0 MB/s eta 0:00:02\n",
      "   ------------------------------------- -- 23.9/25.3 MB 1.1 MB/s eta 0:00:02\n",
      "   ------------------------------------- -- 23.9/25.3 MB 1.1 MB/s eta 0:00:02\n",
      "   -------------------------------------- - 24.1/25.3 MB 1.0 MB/s eta 0:00:02\n",
      "   -------------------------------------- - 24.1/25.3 MB 1.0 MB/s eta 0:00:02\n",
      "   -------------------------------------- - 24.4/25.3 MB 1.0 MB/s eta 0:00:01\n",
      "   -------------------------------------- - 24.4/25.3 MB 1.0 MB/s eta 0:00:01\n",
      "   ---------------------------------------  24.9/25.3 MB 1.0 MB/s eta 0:00:01\n",
      "   ---------------------------------------  25.2/25.3 MB 1.0 MB/s eta 0:00:01\n",
      "   ---------------------------------------- 25.3/25.3 MB 1.0 MB/s eta 0:00:00\n",
      "Using cached scikit_learn-1.6.1-cp310-cp310-win_amd64.whl (11.1 MB)\n",
      "Using cached scipy-1.15.2-cp310-cp310-win_amd64.whl (41.2 MB)\n",
      "Downloading sqlalchemy-2.0.39-cp310-cp310-win_amd64.whl (2.1 MB)\n",
      "   ---------------------------------------- 0.0/2.1 MB ? eta -:--:--\n",
      "   ---- ----------------------------------- 0.3/2.1 MB ? eta -:--:--\n",
      "   --------- ------------------------------ 0.5/2.1 MB 2.4 MB/s eta 0:00:01\n",
      "   ------------------------ --------------- 1.3/2.1 MB 2.3 MB/s eta 0:00:01\n",
      "   ----------------------------- ---------- 1.6/2.1 MB 2.0 MB/s eta 0:00:01\n",
      "   ---------------------------------- ----- 1.8/2.1 MB 2.1 MB/s eta 0:00:01\n",
      "   ---------------------------------- ----- 1.8/2.1 MB 2.1 MB/s eta 0:00:01\n",
      "   ---------------------------------------- 2.1/2.1 MB 1.5 MB/s eta 0:00:00\n",
      "Downloading waitress-3.0.2-py3-none-any.whl (56 kB)\n",
      "Using cached blinker-1.9.0-py3-none-any.whl (8.5 kB)\n",
      "Downloading cachetools-5.5.2-py3-none-any.whl (10 kB)\n",
      "Downloading cloudpickle-3.1.1-py3-none-any.whl (20 kB)\n",
      "Downloading databricks_sdk-0.46.0-py3-none-any.whl (677 kB)\n",
      "   ---------------------------------------- 0.0/677.5 kB ? eta -:--:--\n",
      "   ---------------------------------------- 0.0/677.5 kB ? eta -:--:--\n",
      "   --------------- ------------------------ 262.1/677.5 kB ? eta -:--:--\n",
      "   --------------- ------------------------ 262.1/677.5 kB ? eta -:--:--\n",
      "   -------------------------------------- 677.5/677.5 kB 782.2 kB/s eta 0:00:00\n",
      "Downloading fastapi-0.115.11-py3-none-any.whl (94 kB)\n",
      "Using cached GitPython-3.1.44-py3-none-any.whl (207 kB)\n",
      "Downloading graphql_core-3.2.6-py3-none-any.whl (203 kB)\n",
      "Downloading graphql_relay-3.2.0-py3-none-any.whl (16 kB)\n",
      "Using cached greenlet-3.1.1-cp310-cp310-win_amd64.whl (298 kB)\n",
      "Downloading importlib_metadata-8.6.1-py3-none-any.whl (26 kB)\n",
      "Using cached itsdangerous-2.2.0-py3-none-any.whl (16 kB)\n",
      "Using cached joblib-1.4.2-py3-none-any.whl (301 kB)\n",
      "Downloading opentelemetry_api-1.31.0-py3-none-any.whl (65 kB)\n",
      "Downloading opentelemetry_sdk-1.31.0-py3-none-any.whl (118 kB)\n",
      "Downloading opentelemetry_semantic_conventions-0.52b0-py3-none-any.whl (183 kB)\n",
      "Downloading protobuf-5.29.3-cp310-abi3-win_amd64.whl (434 kB)\n",
      "Using cached pydantic-2.10.6-py3-none-any.whl (431 kB)\n",
      "Using cached pydantic_core-2.27.2-cp310-cp310-win_amd64.whl (2.0 MB)\n",
      "Using cached sqlparse-0.5.3-py3-none-any.whl (44 kB)\n",
      "Downloading threadpoolctl-3.6.0-py3-none-any.whl (18 kB)\n",
      "Using cached uvicorn-0.34.0-py3-none-any.whl (62 kB)\n",
      "Using cached werkzeug-3.1.3-py3-none-any.whl (224 kB)\n",
      "Downloading Mako-1.3.9-py3-none-any.whl (78 kB)\n",
      "Using cached annotated_types-0.7.0-py3-none-any.whl (13 kB)\n",
      "Downloading Deprecated-1.2.18-py2.py3-none-any.whl (10.0 kB)\n",
      "Using cached gitdb-4.0.12-py3-none-any.whl (62 kB)\n",
      "Using cached google_auth-2.38.0-py2.py3-none-any.whl (210 kB)\n",
      "Using cached h11-0.14.0-py3-none-any.whl (58 kB)\n",
      "Downloading starlette-0.46.1-py3-none-any.whl (71 kB)\n",
      "Downloading zipp-3.21.0-py3-none-any.whl (9.6 kB)\n",
      "Using cached anyio-4.8.0-py3-none-any.whl (96 kB)\n",
      "Using cached pyasn1_modules-0.4.1-py3-none-any.whl (181 kB)\n",
      "Using cached smmap-5.0.2-py3-none-any.whl (24 kB)\n",
      "Downloading wrapt-1.17.2-cp310-cp310-win_amd64.whl (38 kB)\n",
      "Using cached sniffio-1.3.1-py3-none-any.whl (10 kB)\n",
      "Installing collected packages: zipp, wrapt, Werkzeug, waitress, threadpoolctl, sqlparse, sniffio, smmap, scipy, pydantic-core, pyasn1-modules, pyarrow, protobuf, markdown, Mako, joblib, itsdangerous, h11, greenlet, graphql-core, cloudpickle, cachetools, blinker, annotated-types, uvicorn, sqlalchemy, scikit-learn, pydantic, importlib_metadata, graphql-relay, google-auth, gitdb, Flask, docker, deprecated, anyio, starlette, opentelemetry-api, graphene, gitpython, databricks-sdk, alembic, opentelemetry-semantic-conventions, fastapi, opentelemetry-sdk, mlflow-skinny, mlflow\n",
      "Successfully installed Flask-3.1.0 Mako-1.3.9 Werkzeug-3.1.3 alembic-1.15.1 annotated-types-0.7.0 anyio-4.8.0 blinker-1.9.0 cachetools-5.5.2 cloudpickle-3.1.1 databricks-sdk-0.46.0 deprecated-1.2.18 docker-7.1.0 fastapi-0.115.11 gitdb-4.0.12 gitpython-3.1.44 google-auth-2.38.0 graphene-3.4.3 graphql-core-3.2.6 graphql-relay-3.2.0 greenlet-3.1.1 h11-0.14.0 importlib_metadata-8.6.1 itsdangerous-2.2.0 joblib-1.4.2 markdown-3.7 mlflow-2.21.0 mlflow-skinny-2.21.0 opentelemetry-api-1.31.0 opentelemetry-sdk-1.31.0 opentelemetry-semantic-conventions-0.52b0 protobuf-5.29.3 pyarrow-19.0.1 pyasn1-modules-0.4.1 pydantic-2.10.6 pydantic-core-2.27.2 scikit-learn-1.6.1 scipy-1.15.2 smmap-5.0.2 sniffio-1.3.1 sqlalchemy-2.0.39 sqlparse-0.5.3 starlette-0.46.1 threadpoolctl-3.6.0 uvicorn-0.34.0 waitress-3.0.2 wrapt-1.17.2 zipp-3.21.0\n"
     ]
    }
   ],
   "source": [
    "pip install mlflow"
   ]
  },
  {
   "cell_type": "code",
   "execution_count": null,
   "metadata": {},
   "outputs": [
    {
     "name": "stdout",
     "output_type": "stream",
     "text": [
      "🏃 View run thundering-hog-165 at: http://ec2-16-16-209-40.eu-north-1.compute.amazonaws.com:5000/#/experiments/0/runs/b359c6b6e4f147c189463628a7059058\n",
      "🧪 View experiment at: http://ec2-16-16-209-40.eu-north-1.compute.amazonaws.com:5000/#/experiments/0\n"
     ]
    }
   ],
   "source": [
    "import mlflow\n",
    "import os\n",
    "\n",
    "mlflow.set_tracking_uri(os.getenv(\"MLFLOW_TRACKING_URI\"))\n",
    "\n",
    "with mlflow.start_run():\n",
    "    mlflow.log_param(\"param1\", 15)\n",
    "    mlflow.log_metric(\"metric1\", 0.89)"
   ]
  },
  {
   "cell_type": "code",
   "execution_count": 2,
   "metadata": {},
   "outputs": [],
   "source": [
    "import numpy as np\n",
    "import pandas as pd"
   ]
  },
  {
   "cell_type": "code",
   "execution_count": 3,
   "metadata": {},
   "outputs": [
    {
     "data": {
      "text/html": [
       "<div>\n",
       "<style scoped>\n",
       "    .dataframe tbody tr th:only-of-type {\n",
       "        vertical-align: middle;\n",
       "    }\n",
       "\n",
       "    .dataframe tbody tr th {\n",
       "        vertical-align: top;\n",
       "    }\n",
       "\n",
       "    .dataframe thead th {\n",
       "        text-align: right;\n",
       "    }\n",
       "</style>\n",
       "<table border=\"1\" class=\"dataframe\">\n",
       "  <thead>\n",
       "    <tr style=\"text-align: right;\">\n",
       "      <th></th>\n",
       "      <th>clean_comment</th>\n",
       "      <th>category</th>\n",
       "    </tr>\n",
       "  </thead>\n",
       "  <tbody>\n",
       "    <tr>\n",
       "      <th>0</th>\n",
       "      <td>family mormon have never tried explain them t...</td>\n",
       "      <td>1</td>\n",
       "    </tr>\n",
       "    <tr>\n",
       "      <th>1</th>\n",
       "      <td>buddhism has very much lot compatible with chr...</td>\n",
       "      <td>1</td>\n",
       "    </tr>\n",
       "    <tr>\n",
       "      <th>2</th>\n",
       "      <td>seriously don say thing first all they won get...</td>\n",
       "      <td>-1</td>\n",
       "    </tr>\n",
       "    <tr>\n",
       "      <th>3</th>\n",
       "      <td>what you have learned yours and only yours wha...</td>\n",
       "      <td>0</td>\n",
       "    </tr>\n",
       "    <tr>\n",
       "      <th>4</th>\n",
       "      <td>for your own benefit you may want read living ...</td>\n",
       "      <td>1</td>\n",
       "    </tr>\n",
       "  </tbody>\n",
       "</table>\n",
       "</div>"
      ],
      "text/plain": [
       "                                       clean_comment  category\n",
       "0   family mormon have never tried explain them t...         1\n",
       "1  buddhism has very much lot compatible with chr...         1\n",
       "2  seriously don say thing first all they won get...        -1\n",
       "3  what you have learned yours and only yours wha...         0\n",
       "4  for your own benefit you may want read living ...         1"
      ]
     },
     "execution_count": 3,
     "metadata": {},
     "output_type": "execute_result"
    }
   ],
   "source": [
    "df = pd.read_csv(r\"C:\\Users\\anime\\OneDrive\\Desktop\\Data Science Projects\\Youtube Comment Analysis\\youtube_comment_analyser\\data\\raw\\reddit.csv\")\n",
    "df.head()"
   ]
  },
  {
   "cell_type": "code",
   "execution_count": 4,
   "metadata": {},
   "outputs": [],
   "source": [
    "df.dropna(inplace=True)\n",
    "df.drop_duplicates(inplace=True)\n",
    "df = df[~(df['clean_comment'].str.strip() == '')]\n"
   ]
  },
  {
   "cell_type": "code",
   "execution_count": 11,
   "metadata": {},
   "outputs": [
    {
     "name": "stdout",
     "output_type": "stream",
     "text": [
      "Collecting nltk\n",
      "  Using cached nltk-3.9.1-py3-none-any.whl.metadata (2.9 kB)\n",
      "Requirement already satisfied: click in c:\\users\\anime\\onedrive\\desktop\\data science projects\\youtube comment analysis\\comment_analysis\\lib\\site-packages (from nltk) (8.1.8)\n",
      "Requirement already satisfied: joblib in c:\\users\\anime\\onedrive\\desktop\\data science projects\\youtube comment analysis\\comment_analysis\\lib\\site-packages (from nltk) (1.4.2)\n",
      "Collecting regex>=2021.8.3 (from nltk)\n",
      "  Downloading regex-2024.11.6-cp310-cp310-win_amd64.whl.metadata (41 kB)\n",
      "Collecting tqdm (from nltk)\n",
      "  Using cached tqdm-4.67.1-py3-none-any.whl.metadata (57 kB)\n",
      "Requirement already satisfied: colorama in c:\\users\\anime\\onedrive\\desktop\\data science projects\\youtube comment analysis\\comment_analysis\\lib\\site-packages (from click->nltk) (0.4.6)\n",
      "Using cached nltk-3.9.1-py3-none-any.whl (1.5 MB)\n",
      "Downloading regex-2024.11.6-cp310-cp310-win_amd64.whl (274 kB)\n",
      "Using cached tqdm-4.67.1-py3-none-any.whl (78 kB)\n",
      "Installing collected packages: tqdm, regex, nltk\n",
      "Successfully installed nltk-3.9.1 regex-2024.11.6 tqdm-4.67.1\n",
      "Note: you may need to restart the kernel to use updated packages.\n"
     ]
    }
   ],
   "source": [
    "pip install nltk"
   ]
  },
  {
   "cell_type": "code",
   "execution_count": 5,
   "metadata": {},
   "outputs": [],
   "source": [
    "import re\n",
    "import nltk\n",
    "from nltk.corpus import stopwords\n",
    "from nltk.stem import WordNetLemmatizer"
   ]
  },
  {
   "cell_type": "code",
   "execution_count": 6,
   "metadata": {},
   "outputs": [
    {
     "name": "stderr",
     "output_type": "stream",
     "text": [
      "[nltk_data] Downloading package stopwords to\n",
      "[nltk_data]     C:\\Users\\anime\\AppData\\Roaming\\nltk_data...\n",
      "[nltk_data]   Package stopwords is already up-to-date!\n",
      "[nltk_data] Downloading package wordnet to\n",
      "[nltk_data]     C:\\Users\\anime\\AppData\\Roaming\\nltk_data...\n",
      "[nltk_data]   Package wordnet is already up-to-date!\n"
     ]
    },
    {
     "data": {
      "text/plain": [
       "True"
      ]
     },
     "execution_count": 6,
     "metadata": {},
     "output_type": "execute_result"
    }
   ],
   "source": [
    "nltk.download('stopwords')\n",
    "nltk.download('wordnet')"
   ]
  },
  {
   "cell_type": "code",
   "execution_count": 9,
   "metadata": {},
   "outputs": [],
   "source": [
    "def preprocess_comment(comment):\n",
    "    # Convert to lowercase\n",
    "    comment = comment.lower()\n",
    "\n",
    "    # Remove trailing and leading whitespaces\n",
    "    comment = comment.strip()\n",
    "\n",
    "    # Remove newline characters\n",
    "    comment = re.sub(r'\\n', ' ', comment)\n",
    "\n",
    "    # Remove non-alphanumeric characters, except punctuation\n",
    "    comment = re.sub(r'[^A-Za-z0-9\\s!?.,]', '', comment)\n",
    "\n",
    "    # Remove stopwords but retain important ones for sentiment analysis\n",
    "    stop_words = set(stopwords.words('english')) - {'not', 'but', 'however', 'no', 'yet'}\n",
    "    comment = ' '.join([word for word in comment.split() if word not in stop_words])\n",
    "\n",
    "    # Lemmatize the words\n",
    "    lemmatizer = WordNetLemmatizer()\n",
    "    comment = ' '.join([lemmatizer.lemmatize(word) for word in comment.split()])\n",
    "\n",
    "    return comment"
   ]
  },
  {
   "cell_type": "code",
   "execution_count": 10,
   "metadata": {},
   "outputs": [],
   "source": [
    "# Apply the preprocessing function to the 'clean_comment' column\n",
    "df['clean_comment'] = df['clean_comment'].apply(preprocess_comment)"
   ]
  },
  {
   "cell_type": "code",
   "execution_count": 11,
   "metadata": {},
   "outputs": [
    {
     "data": {
      "text/html": [
       "<div>\n",
       "<style scoped>\n",
       "    .dataframe tbody tr th:only-of-type {\n",
       "        vertical-align: middle;\n",
       "    }\n",
       "\n",
       "    .dataframe tbody tr th {\n",
       "        vertical-align: top;\n",
       "    }\n",
       "\n",
       "    .dataframe thead th {\n",
       "        text-align: right;\n",
       "    }\n",
       "</style>\n",
       "<table border=\"1\" class=\"dataframe\">\n",
       "  <thead>\n",
       "    <tr style=\"text-align: right;\">\n",
       "      <th></th>\n",
       "      <th>clean_comment</th>\n",
       "      <th>category</th>\n",
       "    </tr>\n",
       "  </thead>\n",
       "  <tbody>\n",
       "    <tr>\n",
       "      <th>0</th>\n",
       "      <td>family mormon never tried explain still stare ...</td>\n",
       "      <td>1</td>\n",
       "    </tr>\n",
       "    <tr>\n",
       "      <th>1</th>\n",
       "      <td>buddhism much lot compatible christianity espe...</td>\n",
       "      <td>1</td>\n",
       "    </tr>\n",
       "    <tr>\n",
       "      <th>2</th>\n",
       "      <td>seriously say thing first get complex explain ...</td>\n",
       "      <td>-1</td>\n",
       "    </tr>\n",
       "    <tr>\n",
       "      <th>3</th>\n",
       "      <td>learned want teach different focus goal not wr...</td>\n",
       "      <td>0</td>\n",
       "    </tr>\n",
       "    <tr>\n",
       "      <th>4</th>\n",
       "      <td>benefit may want read living buddha living chr...</td>\n",
       "      <td>1</td>\n",
       "    </tr>\n",
       "  </tbody>\n",
       "</table>\n",
       "</div>"
      ],
      "text/plain": [
       "                                       clean_comment  category\n",
       "0  family mormon never tried explain still stare ...         1\n",
       "1  buddhism much lot compatible christianity espe...         1\n",
       "2  seriously say thing first get complex explain ...        -1\n",
       "3  learned want teach different focus goal not wr...         0\n",
       "4  benefit may want read living buddha living chr...         1"
      ]
     },
     "execution_count": 11,
     "metadata": {},
     "output_type": "execute_result"
    }
   ],
   "source": [
    "df.head()"
   ]
  },
  {
   "cell_type": "code",
   "execution_count": 12,
   "metadata": {},
   "outputs": [],
   "source": [
    "import mlflow\n",
    "import mlflow.sklearn\n",
    "from sklearn.ensemble import RandomForestClassifier\n",
    "from sklearn.feature_extraction.text import CountVectorizer\n",
    "from sklearn.model_selection import train_test_split, cross_val_predict, StratifiedKFold\n",
    "from sklearn.metrics import accuracy_score, classification_report, confusion_matrix\n",
    "import pandas as pd\n",
    "import matplotlib.pyplot as plt\n",
    "import seaborn as sns"
   ]
  },
  {
   "cell_type": "code",
   "execution_count": 13,
   "metadata": {},
   "outputs": [],
   "source": [
    "vectorizer = CountVectorizer(max_features=10000)"
   ]
  },
  {
   "cell_type": "code",
   "execution_count": 14,
   "metadata": {},
   "outputs": [],
   "source": [
    "X = vectorizer.fit_transform(df['clean_comment']).toarray()\n",
    "y = df['category'] "
   ]
  },
  {
   "cell_type": "code",
   "execution_count": 15,
   "metadata": {},
   "outputs": [
    {
     "data": {
      "text/plain": [
       "array([[0, 0, 0, ..., 0, 0, 0],\n",
       "       [0, 0, 0, ..., 0, 0, 0],\n",
       "       [0, 0, 0, ..., 0, 0, 0],\n",
       "       ...,\n",
       "       [0, 0, 0, ..., 0, 0, 0],\n",
       "       [0, 0, 0, ..., 0, 0, 0],\n",
       "       [0, 0, 0, ..., 0, 0, 0]], shape=(36793, 10000))"
      ]
     },
     "execution_count": 15,
     "metadata": {},
     "output_type": "execute_result"
    }
   ],
   "source": [
    "X"
   ]
  },
  {
   "cell_type": "code",
   "execution_count": 16,
   "metadata": {},
   "outputs": [
    {
     "data": {
      "text/plain": [
       "0        1\n",
       "1        1\n",
       "2       -1\n",
       "3        0\n",
       "4        1\n",
       "        ..\n",
       "37244    0\n",
       "37245    1\n",
       "37246    0\n",
       "37247    1\n",
       "37248    0\n",
       "Name: category, Length: 36793, dtype: int64"
      ]
     },
     "execution_count": 16,
     "metadata": {},
     "output_type": "execute_result"
    }
   ],
   "source": [
    "y"
   ]
  },
  {
   "cell_type": "code",
   "execution_count": 17,
   "metadata": {},
   "outputs": [
    {
     "data": {
      "text/plain": [
       "(36793, 10000)"
      ]
     },
     "execution_count": 17,
     "metadata": {},
     "output_type": "execute_result"
    }
   ],
   "source": [
    "X.shape"
   ]
  },
  {
   "cell_type": "code",
   "execution_count": 18,
   "metadata": {},
   "outputs": [
    {
     "data": {
      "text/plain": [
       "(36793,)"
      ]
     },
     "execution_count": 18,
     "metadata": {},
     "output_type": "execute_result"
    }
   ],
   "source": [
    "y.shape"
   ]
  },
  {
   "cell_type": "code",
   "execution_count": 19,
   "metadata": {},
   "outputs": [],
   "source": [
    "mlflow.set_tracking_uri(\"http://ec2-16-16-209-40.eu-north-1.compute.amazonaws.com:5000/\")"
   ]
  },
  {
   "cell_type": "code",
   "execution_count": 20,
   "metadata": {},
   "outputs": [
    {
     "name": "stderr",
     "output_type": "stream",
     "text": [
      "2025/03/16 09:46:55 INFO mlflow.tracking.fluent: Experiment with name 'RF Baseline' does not exist. Creating a new experiment.\n"
     ]
    },
    {
     "data": {
      "text/plain": [
       "<Experiment: artifact_location='s3://datascienceanimesh/839944195948201950', creation_time=1742098614927, experiment_id='839944195948201950', last_update_time=1742098614927, lifecycle_stage='active', name='RF Baseline', tags={}>"
      ]
     },
     "execution_count": 20,
     "metadata": {},
     "output_type": "execute_result"
    }
   ],
   "source": [
    "mlflow.set_experiment(\"RF Baseline\")"
   ]
  },
  {
   "cell_type": "code",
   "execution_count": 22,
   "metadata": {},
   "outputs": [
    {
     "name": "stderr",
     "output_type": "stream",
     "text": [
      "2025/03/16 09:54:49 WARNING mlflow.models.model: Model logged without a signature and input example. Please set `input_example` parameter when logging the model to auto infer the model signature.\n"
     ]
    },
    {
     "name": "stdout",
     "output_type": "stream",
     "text": [
      "🏃 View run RandomForest_Baseline_TrainTestSplit at: http://ec2-16-16-209-40.eu-north-1.compute.amazonaws.com:5000/#/experiments/839944195948201950/runs/232c06e283e841eeb9bdf91f8dba4a32\n",
      "🧪 View experiment at: http://ec2-16-16-209-40.eu-north-1.compute.amazonaws.com:5000/#/experiments/839944195948201950\n",
      "Accuracy: 0.6475064546813426\n"
     ]
    },
    {
     "data": {
      "image/png": "[encoded data removed]",
      "text/plain": [
       "<Figure size 800x600 with 2 Axes>"
      ]
     },
     "metadata": {},
     "output_type": "display_data"
    }
   ],
   "source": [
    "# Step 1: Split the data into training and testing sets (80% train, 20% test)\n",
    "X_train, X_test, y_train, y_test = train_test_split(X, y, test_size=0.2, random_state=42, stratify=y)\n",
    "\n",
    "# Step 2: Define and train a Random Forest baseline model using a simple train-test split\n",
    "with mlflow.start_run() as run:\n",
    "    # Log a description for the run\n",
    "    mlflow.set_tag(\"mlflow.runName\", \"RandomForest_Baseline_TrainTestSplit\")\n",
    "    mlflow.set_tag(\"experiment_type\", \"baseline\")\n",
    "    mlflow.set_tag(\"model_type\", \"RandomForestClassifier\")\n",
    "\n",
    "    # Add a description\n",
    "    mlflow.set_tag(\"description\", \"Baseline RandomForest model for sentiment analysis using Bag of Words (BoW) with a simple train-test split\")\n",
    "\n",
    "    # Log parameters for the vectorizer\n",
    "    mlflow.log_param(\"vectorizer_type\", \"CountVectorizer\")\n",
    "    mlflow.log_param(\"vectorizer_max_features\", vectorizer.max_features)\n",
    "\n",
    "    # Log Random Forest parameters\n",
    "    n_estimators = 200\n",
    "    max_depth = 15\n",
    "\n",
    "    mlflow.log_param(\"n_estimators\", n_estimators)\n",
    "    mlflow.log_param(\"max_depth\", max_depth)\n",
    "\n",
    "    # Initialize and train the model\n",
    "    model = RandomForestClassifier(n_estimators=n_estimators, max_depth=max_depth, random_state=42)\n",
    "    model.fit(X_train, y_train)\n",
    "\n",
    "    # Make predictions on the test set\n",
    "    y_pred = model.predict(X_test)\n",
    "\n",
    "    # Log metrics for each class and accuracy\n",
    "    accuracy = accuracy_score(y_test, y_pred)\n",
    "    mlflow.log_metric(\"accuracy\", accuracy)\n",
    "\n",
    "    classification_rep = classification_report(y_test, y_pred, output_dict=True)\n",
    "\n",
    "    for label, metrics in classification_rep.items():\n",
    "        if isinstance(metrics, dict):  # For precision, recall, f1-score, etc.\n",
    "            for metric, value in metrics.items():\n",
    "                mlflow.log_metric(f\"{label}_{metric}\", value)\n",
    "\n",
    "    # Confusion matrix plot\n",
    "    conf_matrix = confusion_matrix(y_test, y_pred)\n",
    "    plt.figure(figsize=(8, 6))\n",
    "    sns.heatmap(conf_matrix, annot=True, fmt=\"d\", cmap=\"Blues\")\n",
    "    plt.xlabel(\"Predicted\")\n",
    "    plt.ylabel(\"Actual\")\n",
    "    plt.title(\"Confusion Matrix\")\n",
    "\n",
    "    # Save and log the confusion matrix plot\n",
    "    plt.savefig(\"confusion_matrix.png\")\n",
    "    mlflow.log_artifact(\"C:/Users/anime/OneDrive/Desktop/Data Science Projects/Youtube Comment Analysis/youtube_comment_analyser/notebooks/confusion_matrix.png\")\n",
    "\n",
    "    # Log the Random Forest model\n",
    "    mlflow.sklearn.log_model(model, \"random_forest_model\")\n",
    "\n",
    "    # Optionally log the dataset itself (if it's small enough)\n",
    "    df.to_csv(\"dataset.csv\", index=False)\n",
    "    # mlflow.log_artifact(\"/content/dataset.csv\")\n",
    "\n",
    "# Display final accuracy\n",
    "print(f\"Accuracy: {accuracy}\")"
   ]
  },
  {
   "cell_type": "code",
   "execution_count": 23,
   "metadata": {},
   "outputs": [
    {
     "name": "stdout",
     "output_type": "stream",
     "text": [
      "              precision    recall  f1-score   support\n",
      "\n",
      "          -1       1.00      0.00      0.01      1650\n",
      "           0       0.68      0.81      0.74      2555\n",
      "           1       0.62      0.85      0.72      3154\n",
      "\n",
      "    accuracy                           0.65      7359\n",
      "   macro avg       0.77      0.56      0.49      7359\n",
      "weighted avg       0.73      0.65      0.57      7359\n",
      "\n"
     ]
    }
   ],
   "source": [
    "print(classification_report(y_test, y_pred))"
   ]
  },
  {
   "cell_type": "code",
   "execution_count": 24,
   "metadata": {},
   "outputs": [],
   "source": [
    "df.to_csv(r'C:\\Users\\anime\\OneDrive\\Desktop\\Data Science Projects\\Youtube Comment Analysis\\youtube_comment_analyser\\data\\processed\\reddit_preprocessing.csv', index=False)"
   ]
  },
  {
   "cell_type": "code",
   "execution_count": 25,
   "metadata": {},
   "outputs": [
    {
     "data": {
      "text/html": [
       "<div>\n",
       "<style scoped>\n",
       "    .dataframe tbody tr th:only-of-type {\n",
       "        vertical-align: middle;\n",
       "    }\n",
       "\n",
       "    .dataframe tbody tr th {\n",
       "        vertical-align: top;\n",
       "    }\n",
       "\n",
       "    .dataframe thead th {\n",
       "        text-align: right;\n",
       "    }\n",
       "</style>\n",
       "<table border=\"1\" class=\"dataframe\">\n",
       "  <thead>\n",
       "    <tr style=\"text-align: right;\">\n",
       "      <th></th>\n",
       "      <th>clean_comment</th>\n",
       "      <th>category</th>\n",
       "    </tr>\n",
       "  </thead>\n",
       "  <tbody>\n",
       "    <tr>\n",
       "      <th>0</th>\n",
       "      <td>family mormon never tried explain still stare ...</td>\n",
       "      <td>1</td>\n",
       "    </tr>\n",
       "    <tr>\n",
       "      <th>1</th>\n",
       "      <td>buddhism much lot compatible christianity espe...</td>\n",
       "      <td>1</td>\n",
       "    </tr>\n",
       "    <tr>\n",
       "      <th>2</th>\n",
       "      <td>seriously say thing first get complex explain ...</td>\n",
       "      <td>-1</td>\n",
       "    </tr>\n",
       "    <tr>\n",
       "      <th>3</th>\n",
       "      <td>learned want teach different focus goal not wr...</td>\n",
       "      <td>0</td>\n",
       "    </tr>\n",
       "    <tr>\n",
       "      <th>4</th>\n",
       "      <td>benefit may want read living buddha living chr...</td>\n",
       "      <td>1</td>\n",
       "    </tr>\n",
       "  </tbody>\n",
       "</table>\n",
       "</div>"
      ],
      "text/plain": [
       "                                       clean_comment  category\n",
       "0  family mormon never tried explain still stare ...         1\n",
       "1  buddhism much lot compatible christianity espe...         1\n",
       "2  seriously say thing first get complex explain ...        -1\n",
       "3  learned want teach different focus goal not wr...         0\n",
       "4  benefit may want read living buddha living chr...         1"
      ]
     },
     "execution_count": 25,
     "metadata": {},
     "output_type": "execute_result"
    }
   ],
   "source": [
    "pd.read_csv(r\"C:\\Users\\anime\\OneDrive\\Desktop\\Data Science Projects\\Youtube Comment Analysis\\youtube_comment_analyser\\data\\processed\\reddit_preprocessing.csv\").head()"
   ]
  }
 ],
 "metadata": {
  "kernelspec": {
   "display_name": "comment_analysis",
   "language": "python",
   "name": "python3"
  },
  "language_info": {
   "codemirror_mode": {
    "name": "ipython",
    "version": 3
   },
   "file_extension": ".py",
   "mimetype": "text/x-python",
   "name": "python",
   "nbconvert_exporter": "python",
   "pygments_lexer": "ipython3",
   "version": "3.10.9"
  }
 },
 "nbformat": 4,
 "nbformat_minor": 2
}
