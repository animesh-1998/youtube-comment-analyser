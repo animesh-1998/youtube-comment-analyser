{
 "cells": [
  {
   "cell_type": "code",
   "execution_count": 1,
   "metadata": {},
   "outputs": [
    {
     "data": {
      "text/html": [
       "<div>\n",
       "<style scoped>\n",
       "    .dataframe tbody tr th:only-of-type {\n",
       "        vertical-align: middle;\n",
       "    }\n",
       "\n",
       "    .dataframe tbody tr th {\n",
       "        vertical-align: top;\n",
       "    }\n",
       "\n",
       "    .dataframe thead th {\n",
       "        text-align: right;\n",
       "    }\n",
       "</style>\n",
       "<table border=\"1\" class=\"dataframe\">\n",
       "  <thead>\n",
       "    <tr style=\"text-align: right;\">\n",
       "      <th></th>\n",
       "      <th>clean_comment</th>\n",
       "      <th>category</th>\n",
       "    </tr>\n",
       "  </thead>\n",
       "  <tbody>\n",
       "    <tr>\n",
       "      <th>0</th>\n",
       "      <td>family mormon never tried explain still stare ...</td>\n",
       "      <td>1</td>\n",
       "    </tr>\n",
       "    <tr>\n",
       "      <th>1</th>\n",
       "      <td>buddhism much lot compatible christianity espe...</td>\n",
       "      <td>1</td>\n",
       "    </tr>\n",
       "    <tr>\n",
       "      <th>2</th>\n",
       "      <td>seriously say thing first get complex explain ...</td>\n",
       "      <td>-1</td>\n",
       "    </tr>\n",
       "    <tr>\n",
       "      <th>3</th>\n",
       "      <td>learned want teach different focus goal not wr...</td>\n",
       "      <td>0</td>\n",
       "    </tr>\n",
       "    <tr>\n",
       "      <th>4</th>\n",
       "      <td>benefit may want read living buddha living chr...</td>\n",
       "      <td>1</td>\n",
       "    </tr>\n",
       "    <tr>\n",
       "      <th>...</th>\n",
       "      <td>...</td>\n",
       "      <td>...</td>\n",
       "    </tr>\n",
       "    <tr>\n",
       "      <th>36788</th>\n",
       "      <td>jesus</td>\n",
       "      <td>0</td>\n",
       "    </tr>\n",
       "    <tr>\n",
       "      <th>36789</th>\n",
       "      <td>kya bhai pure saal chutiya banaya modi aur jab...</td>\n",
       "      <td>1</td>\n",
       "    </tr>\n",
       "    <tr>\n",
       "      <th>36790</th>\n",
       "      <td>downvote karna tha par upvote hogaya</td>\n",
       "      <td>0</td>\n",
       "    </tr>\n",
       "    <tr>\n",
       "      <th>36791</th>\n",
       "      <td>haha nice</td>\n",
       "      <td>1</td>\n",
       "    </tr>\n",
       "    <tr>\n",
       "      <th>36792</th>\n",
       "      <td>facebook working bjp cell</td>\n",
       "      <td>0</td>\n",
       "    </tr>\n",
       "  </tbody>\n",
       "</table>\n",
       "<p>36793 rows × 2 columns</p>\n",
       "</div>"
      ],
      "text/plain": [
       "                                           clean_comment  category\n",
       "0      family mormon never tried explain still stare ...         1\n",
       "1      buddhism much lot compatible christianity espe...         1\n",
       "2      seriously say thing first get complex explain ...        -1\n",
       "3      learned want teach different focus goal not wr...         0\n",
       "4      benefit may want read living buddha living chr...         1\n",
       "...                                                  ...       ...\n",
       "36788                                              jesus         0\n",
       "36789  kya bhai pure saal chutiya banaya modi aur jab...         1\n",
       "36790               downvote karna tha par upvote hogaya         0\n",
       "36791                                          haha nice         1\n",
       "36792                          facebook working bjp cell         0\n",
       "\n",
       "[36793 rows x 2 columns]"
      ]
     },
     "execution_count": 1,
     "metadata": {},
     "output_type": "execute_result"
    }
   ],
   "source": [
    "import pandas as pd\n",
    "\n",
    "df = pd.read_csv(r\"C:\\Users\\anime\\OneDrive\\Desktop\\Data Science Projects\\Youtube Comment Analysis\\youtube_comment_analyser\\data\\processed\\reddit_preprocessing.csv\")\n",
    "df"
   ]
  },
  {
   "cell_type": "code",
   "execution_count": 2,
   "metadata": {},
   "outputs": [
    {
     "data": {
      "text/plain": [
       "(36661, 2)"
      ]
     },
     "execution_count": 2,
     "metadata": {},
     "output_type": "execute_result"
    }
   ],
   "source": [
    "df =  df.dropna(subset=[\"clean_comment\"])\n",
    "df.shape"
   ]
  },
  {
   "cell_type": "code",
   "execution_count": null,
   "metadata": {},
   "outputs": [
    {
     "name": "stderr",
     "output_type": "stream",
     "text": [
      "c:\\Users\\anime\\OneDrive\\Desktop\\Data Science Projects\\Youtube Comment Analysis\\comment_analysis\\lib\\site-packages\\tqdm\\auto.py:21: TqdmWarning: IProgress not found. Please update jupyter and ipywidgets. See https://ipywidgets.readthedocs.io/en/stable/user_install.html\n",
      "  from .autonotebook import tqdm as notebook_tqdm\n"
     ]
    }
   ],
   "source": [
    "import pandas as pd\n",
    "from sklearn.feature_extraction.text import TfidfVectorizer\n",
    "from sklearn.model_selection import train_test_split\n",
    "from sklearn.neighbors import KNeighborsClassifier\n",
    "from sklearn.metrics import accuracy_score, classification_report\n",
    "from imblearn.over_sampling import SMOTE\n",
    "import mlflow\n",
    "import mlflow.sklearn\n",
    "import os\n",
    "import optuna"
   ]
  },
  {
   "cell_type": "code",
   "execution_count": null,
   "metadata": {},
   "outputs": [
    {
     "name": "stderr",
     "output_type": "stream",
     "text": [
      "2025/04/03 10:44:35 INFO mlflow.tracking.fluent: Experiment with name 'ML Algos with Revised HP Tuning' does not exist. Creating a new experiment.\n"
     ]
    },
    {
     "data": {
      "text/plain": [
       "<Experiment: artifact_location='s3://datascienceanimesh/516785590309530379', creation_time=1743657286448, experiment_id='516785590309530379', last_update_time=1743657286448, lifecycle_stage='active', name='ML Algos with Revised HP Tuning', tags={}>"
      ]
     },
     "execution_count": 4,
     "metadata": {},
     "output_type": "execute_result"
    }
   ],
   "source": [
    "mlflow.set_tracking_uri(os.getenv(\"MLFLOW_TRACKING_URI\"))\n",
    "mlflow.set_experiment(\"ML Algos with Revised HP Tuning\")"
   ]
  },
  {
   "cell_type": "code",
   "execution_count": 5,
   "metadata": {},
   "outputs": [
    {
     "name": "stderr",
     "output_type": "stream",
     "text": [
      "[I 2025-04-03 10:44:43,077] A new study created in memory with name: no-name-c1eb4fb4-1934-4f4e-90f1-facb1aeada79\n",
      "[I 2025-04-03 10:44:47,947] Trial 0 finished with value: 0.4061316084612095 and parameters: {'n_neighbors': 4, 'p': 2}. Best is trial 0 with value: 0.4061316084612095.\n",
      "[I 2025-04-03 10:44:52,696] Trial 1 finished with value: 0.39016870880032206 and parameters: {'n_neighbors': 18, 'p': 2}. Best is trial 0 with value: 0.4061316084612095.\n",
      "[I 2025-04-03 10:44:55,694] Trial 2 finished with value: 0.4263411054771743 and parameters: {'n_neighbors': 6, 'p': 1}. Best is trial 2 with value: 0.4263411054771743.\n",
      "[I 2025-04-03 10:45:01,159] Trial 3 finished with value: 0.39213896711122254 and parameters: {'n_neighbors': 17, 'p': 2}. Best is trial 2 with value: 0.4263411054771743.\n",
      "[I 2025-04-03 10:45:05,558] Trial 4 finished with value: 0.36692944520649445 and parameters: {'n_neighbors': 24, 'p': 1}. Best is trial 2 with value: 0.4263411054771743.\n",
      "[I 2025-04-03 10:45:09,994] Trial 5 finished with value: 0.37627560973959845 and parameters: {'n_neighbors': 20, 'p': 1}. Best is trial 2 with value: 0.4263411054771743.\n",
      "[I 2025-04-03 10:45:14,388] Trial 6 finished with value: 0.41830841670324465 and parameters: {'n_neighbors': 9, 'p': 1}. Best is trial 2 with value: 0.4263411054771743.\n",
      "[I 2025-04-03 10:45:18,857] Trial 7 finished with value: 0.4078002660162062 and parameters: {'n_neighbors': 11, 'p': 1}. Best is trial 2 with value: 0.4263411054771743.\n",
      "[I 2025-04-03 10:45:23,335] Trial 8 finished with value: 0.3692028486529627 and parameters: {'n_neighbors': 23, 'p': 1}. Best is trial 2 with value: 0.4263411054771743.\n",
      "[I 2025-04-03 10:45:28,383] Trial 9 finished with value: 0.4061316084612095 and parameters: {'n_neighbors': 4, 'p': 2}. Best is trial 2 with value: 0.4263411054771743.\n",
      "[I 2025-04-03 10:45:32,949] Trial 10 finished with value: 0.4078002660162062 and parameters: {'n_neighbors': 11, 'p': 1}. Best is trial 2 with value: 0.4263411054771743.\n",
      "[I 2025-04-03 10:45:37,580] Trial 11 finished with value: 0.4078002660162062 and parameters: {'n_neighbors': 11, 'p': 1}. Best is trial 2 with value: 0.4263411054771743.\n",
      "[I 2025-04-03 10:45:42,299] Trial 12 finished with value: 0.419369380005593 and parameters: {'n_neighbors': 8, 'p': 1}. Best is trial 2 with value: 0.4263411054771743.\n",
      "[I 2025-04-03 10:45:47,060] Trial 13 finished with value: 0.419369380005593 and parameters: {'n_neighbors': 8, 'p': 1}. Best is trial 2 with value: 0.4263411054771743.\n",
      "[I 2025-04-03 10:45:52,176] Trial 14 finished with value: 0.4466500937285295 and parameters: {'n_neighbors': 3, 'p': 1}. Best is trial 14 with value: 0.4466500937285295.\n",
      "[I 2025-04-03 10:45:57,307] Trial 15 finished with value: 0.35925035555831814 and parameters: {'n_neighbors': 28, 'p': 1}. Best is trial 14 with value: 0.4466500937285295.\n",
      "[I 2025-04-03 10:46:01,931] Trial 16 finished with value: 0.4466500937285295 and parameters: {'n_neighbors': 3, 'p': 1}. Best is trial 14 with value: 0.4466500937285295.\n",
      "[I 2025-04-03 10:46:06,089] Trial 17 finished with value: 0.3946648957779851 and parameters: {'n_neighbors': 14, 'p': 1}. Best is trial 14 with value: 0.4466500937285295.\n",
      "[I 2025-04-03 10:46:12,268] Trial 18 finished with value: 0.42250008009076356 and parameters: {'n_neighbors': 3, 'p': 2}. Best is trial 14 with value: 0.4466500937285295.\n",
      "[I 2025-04-03 10:46:16,601] Trial 19 finished with value: 0.3946648957779851 and parameters: {'n_neighbors': 14, 'p': 1}. Best is trial 14 with value: 0.4466500937285295.\n",
      "[I 2025-04-03 10:46:20,983] Trial 20 finished with value: 0.4263411054771743 and parameters: {'n_neighbors': 6, 'p': 1}. Best is trial 14 with value: 0.4466500937285295.\n",
      "[I 2025-04-03 10:46:25,441] Trial 21 finished with value: 0.4263411054771743 and parameters: {'n_neighbors': 6, 'p': 1}. Best is trial 14 with value: 0.4466500937285295.\n",
      "[I 2025-04-03 10:46:29,812] Trial 22 finished with value: 0.4466500937285295 and parameters: {'n_neighbors': 3, 'p': 1}. Best is trial 14 with value: 0.4466500937285295.\n",
      "[I 2025-04-03 10:46:34,179] Trial 23 finished with value: 0.4466500937285295 and parameters: {'n_neighbors': 3, 'p': 1}. Best is trial 14 with value: 0.4466500937285295.\n",
      "[I 2025-04-03 10:46:38,626] Trial 24 finished with value: 0.4263411054771743 and parameters: {'n_neighbors': 6, 'p': 1}. Best is trial 14 with value: 0.4466500937285295.\n",
      "[I 2025-04-03 10:46:43,173] Trial 25 finished with value: 0.4466500937285295 and parameters: {'n_neighbors': 3, 'p': 1}. Best is trial 14 with value: 0.4466500937285295.\n",
      "[I 2025-04-03 10:46:50,940] Trial 26 finished with value: 0.39759542638982365 and parameters: {'n_neighbors': 14, 'p': 2}. Best is trial 14 with value: 0.4466500937285295.\n",
      "[I 2025-04-03 10:46:55,510] Trial 27 finished with value: 0.41830841670324465 and parameters: {'n_neighbors': 9, 'p': 1}. Best is trial 14 with value: 0.4466500937285295.\n",
      "[I 2025-04-03 10:47:00,152] Trial 28 finished with value: 0.4263411054771743 and parameters: {'n_neighbors': 6, 'p': 1}. Best is trial 14 with value: 0.4466500937285295.\n",
      "[I 2025-04-03 10:47:05,500] Trial 29 finished with value: 0.40208987753579806 and parameters: {'n_neighbors': 5, 'p': 2}. Best is trial 14 with value: 0.4466500937285295.\n",
      "2025/04/03 10:47:24 WARNING mlflow.models.model: Model logged without a signature and input example. Please set `input_example` parameter when logging the model to auto infer the model signature.\n"
     ]
    },
    {
     "name": "stdout",
     "output_type": "stream",
     "text": [
      "🏃 View run KNN_RandomUnderSampler_TFIDF_Bigrams at: http://ec2-16-171-237-43.eu-north-1.compute.amazonaws.com:5000/#/experiments/516785590309530379/runs/f5adf21c57d64087bba95b5bcf566a2a\n",
      "🧪 View experiment at: http://ec2-16-171-237-43.eu-north-1.compute.amazonaws.com:5000/#/experiments/516785590309530379\n"
     ]
    }
   ],
   "source": [
    "import mlflow\n",
    "import optuna\n",
    "import numpy as np\n",
    "from sklearn.feature_extraction.text import TfidfVectorizer\n",
    "from sklearn.model_selection import train_test_split, cross_val_score\n",
    "from sklearn.neighbors import KNeighborsClassifier\n",
    "from sklearn.metrics import accuracy_score, classification_report\n",
    "from imblearn.under_sampling import RandomUnderSampler\n",
    "\n",
    "# Step 1: Remove rows where 'category' is NaN\n",
    "df = df.dropna(subset=['category'])\n",
    "\n",
    "# Step 2: Train-test split BEFORE TF-IDF vectorization\n",
    "X_train_raw, X_test_raw, y_train, y_test = train_test_split(\n",
    "    df['clean_comment'], df['category'], test_size=0.2, random_state=42, stratify=df['category']\n",
    ")\n",
    "\n",
    "# Step 3: TF-IDF vectorization applied only on training data\n",
    "ngram_range = (1, 2)  # Bigram\n",
    "max_features = 1000  # Set max_features to 1000\n",
    "\n",
    "vectorizer = TfidfVectorizer(ngram_range=ngram_range, max_features=max_features)\n",
    "X_train = vectorizer.fit_transform(X_train_raw)  # Fit only on training data\n",
    "X_test = vectorizer.transform(X_test_raw)  # Transform test data separately\n",
    "\n",
    "# Step 4: Apply RandomUnderSampler to balance classes by undersampling majority classes\n",
    "undersampler = RandomUnderSampler(random_state=42)\n",
    "X_train_resampled, y_train_resampled = undersampler.fit_resample(X_train, y_train)\n",
    "\n",
    "# Function to log results in MLflow\n",
    "def log_mlflow(model_name, model, X_train, X_test, y_train, y_test):\n",
    "    with mlflow.start_run():\n",
    "        # Log model type\n",
    "        mlflow.set_tag(\"mlflow.runName\", f\"{model_name}_RandomUnderSampler_TFIDF_Bigrams\")\n",
    "        mlflow.set_tag(\"experiment_type\", \"algorithm_comparison\")\n",
    "\n",
    "        # Log algorithm name as a parameter\n",
    "        mlflow.log_param(\"algo_name\", model_name)\n",
    "\n",
    "        # Train model\n",
    "        model.fit(X_train, y_train)\n",
    "        y_pred = model.predict(X_test)\n",
    "\n",
    "        # Log accuracy\n",
    "        accuracy = accuracy_score(y_test, y_pred)\n",
    "        mlflow.log_metric(\"accuracy\", accuracy)\n",
    "\n",
    "        # Log classification report\n",
    "        classification_rep = classification_report(y_test, y_pred, output_dict=True)\n",
    "        for label, metrics in classification_rep.items():\n",
    "            if isinstance(metrics, dict):\n",
    "                for metric, value in metrics.items():\n",
    "                    mlflow.log_metric(f\"{label}_{metric}\", value)\n",
    "\n",
    "        # Log the model\n",
    "        mlflow.sklearn.log_model(model, f\"{model_name}_model\")\n",
    "\n",
    "# Step 6: Optuna objective function for KNN using cross-validation\n",
    "def objective_knn(trial):\n",
    "    n_neighbors = trial.suggest_int('n_neighbors', 3, 30)  # Tuning the number of neighbors\n",
    "    p = trial.suggest_categorical('p', [1, 2])  # Tuning the distance metric (1 for Manhattan, 2 for Euclidean)\n",
    "\n",
    "    model = KNeighborsClassifier(n_neighbors=n_neighbors, p=p)\n",
    "\n",
    "    # Use cross-validation on training data\n",
    "    cv_scores = cross_val_score(model, X_train_resampled, y_train_resampled, cv=5, scoring='accuracy')\n",
    "    return np.mean(cv_scores)  # Return mean accuracy of cross-validation\n",
    "\n",
    "# Step 7: Run Optuna for KNN, log the best model only\n",
    "def run_optuna_experiment():\n",
    "    study = optuna.create_study(direction=\"maximize\")\n",
    "    study.optimize(objective_knn, n_trials=30)\n",
    "\n",
    "    # Get the best parameters and log only the best model\n",
    "    best_params = study.best_params\n",
    "    best_model = KNeighborsClassifier(n_neighbors=best_params['n_neighbors'], p=best_params['p'])\n",
    "\n",
    "    # Train the best model on the resampled training set\n",
    "    best_model.fit(X_train_resampled, y_train_resampled)\n",
    "\n",
    "    # Log the best model using MLflow\n",
    "    log_mlflow(\"KNN\", best_model, X_train_resampled, X_test, y_train_resampled, y_test)\n",
    "\n",
    "# Run the experiment for KNN\n",
    "run_optuna_experiment()\n"
   ]
  }
 ],
 "metadata": {
  "kernelspec": {
   "display_name": "comment_analysis",
   "language": "python",
   "name": "python3"
  },
  "language_info": {
   "codemirror_mode": {
    "name": "ipython",
    "version": 3
   },
   "file_extension": ".py",
   "mimetype": "text/x-python",
   "name": "python",
   "nbconvert_exporter": "python",
   "pygments_lexer": "ipython3",
   "version": "3.10.9"
  }
 },
 "nbformat": 4,
 "nbformat_minor": 2
}
