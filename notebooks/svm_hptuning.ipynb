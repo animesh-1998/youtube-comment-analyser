{
 "cells": [
  {
   "cell_type": "code",
   "execution_count": 1,
   "metadata": {},
   "outputs": [
    {
     "data": {
      "text/html": [
       "<div>\n",
       "<style scoped>\n",
       "    .dataframe tbody tr th:only-of-type {\n",
       "        vertical-align: middle;\n",
       "    }\n",
       "\n",
       "    .dataframe tbody tr th {\n",
       "        vertical-align: top;\n",
       "    }\n",
       "\n",
       "    .dataframe thead th {\n",
       "        text-align: right;\n",
       "    }\n",
       "</style>\n",
       "<table border=\"1\" class=\"dataframe\">\n",
       "  <thead>\n",
       "    <tr style=\"text-align: right;\">\n",
       "      <th></th>\n",
       "      <th>clean_comment</th>\n",
       "      <th>category</th>\n",
       "    </tr>\n",
       "  </thead>\n",
       "  <tbody>\n",
       "    <tr>\n",
       "      <th>0</th>\n",
       "      <td>family mormon never tried explain still stare ...</td>\n",
       "      <td>1</td>\n",
       "    </tr>\n",
       "    <tr>\n",
       "      <th>1</th>\n",
       "      <td>buddhism much lot compatible christianity espe...</td>\n",
       "      <td>1</td>\n",
       "    </tr>\n",
       "    <tr>\n",
       "      <th>2</th>\n",
       "      <td>seriously say thing first get complex explain ...</td>\n",
       "      <td>-1</td>\n",
       "    </tr>\n",
       "    <tr>\n",
       "      <th>3</th>\n",
       "      <td>learned want teach different focus goal not wr...</td>\n",
       "      <td>0</td>\n",
       "    </tr>\n",
       "    <tr>\n",
       "      <th>4</th>\n",
       "      <td>benefit may want read living buddha living chr...</td>\n",
       "      <td>1</td>\n",
       "    </tr>\n",
       "    <tr>\n",
       "      <th>...</th>\n",
       "      <td>...</td>\n",
       "      <td>...</td>\n",
       "    </tr>\n",
       "    <tr>\n",
       "      <th>36788</th>\n",
       "      <td>jesus</td>\n",
       "      <td>0</td>\n",
       "    </tr>\n",
       "    <tr>\n",
       "      <th>36789</th>\n",
       "      <td>kya bhai pure saal chutiya banaya modi aur jab...</td>\n",
       "      <td>1</td>\n",
       "    </tr>\n",
       "    <tr>\n",
       "      <th>36790</th>\n",
       "      <td>downvote karna tha par upvote hogaya</td>\n",
       "      <td>0</td>\n",
       "    </tr>\n",
       "    <tr>\n",
       "      <th>36791</th>\n",
       "      <td>haha nice</td>\n",
       "      <td>1</td>\n",
       "    </tr>\n",
       "    <tr>\n",
       "      <th>36792</th>\n",
       "      <td>facebook working bjp cell</td>\n",
       "      <td>0</td>\n",
       "    </tr>\n",
       "  </tbody>\n",
       "</table>\n",
       "<p>36793 rows × 2 columns</p>\n",
       "</div>"
      ],
      "text/plain": [
       "                                           clean_comment  category\n",
       "0      family mormon never tried explain still stare ...         1\n",
       "1      buddhism much lot compatible christianity espe...         1\n",
       "2      seriously say thing first get complex explain ...        -1\n",
       "3      learned want teach different focus goal not wr...         0\n",
       "4      benefit may want read living buddha living chr...         1\n",
       "...                                                  ...       ...\n",
       "36788                                              jesus         0\n",
       "36789  kya bhai pure saal chutiya banaya modi aur jab...         1\n",
       "36790               downvote karna tha par upvote hogaya         0\n",
       "36791                                          haha nice         1\n",
       "36792                          facebook working bjp cell         0\n",
       "\n",
       "[36793 rows x 2 columns]"
      ]
     },
     "execution_count": 1,
     "metadata": {},
     "output_type": "execute_result"
    }
   ],
   "source": [
    "import pandas as pd\n",
    "\n",
    "df = pd.read_csv(r\"C:\\Users\\anime\\OneDrive\\Desktop\\Data Science Projects\\Youtube Comment Analysis\\youtube_comment_analyser\\data\\processed\\reddit_preprocessing.csv\")\n",
    "df"
   ]
  },
  {
   "cell_type": "code",
   "execution_count": 2,
   "metadata": {},
   "outputs": [
    {
     "data": {
      "text/plain": [
       "(36661, 2)"
      ]
     },
     "execution_count": 2,
     "metadata": {},
     "output_type": "execute_result"
    }
   ],
   "source": [
    "df =  df.dropna(subset=[\"clean_comment\"])\n",
    "df.shape"
   ]
  },
  {
   "cell_type": "code",
   "execution_count": null,
   "metadata": {},
   "outputs": [
    {
     "name": "stderr",
     "output_type": "stream",
     "text": [
      "c:\\Users\\anime\\OneDrive\\Desktop\\Data Science Projects\\Youtube Comment Analysis\\comment_analysis\\lib\\site-packages\\tqdm\\auto.py:21: TqdmWarning: IProgress not found. Please update jupyter and ipywidgets. See https://ipywidgets.readthedocs.io/en/stable/user_install.html\n",
      "  from .autonotebook import tqdm as notebook_tqdm\n"
     ]
    }
   ],
   "source": [
    "import pandas as pd\n",
    "from sklearn.feature_extraction.text import TfidfVectorizer\n",
    "from sklearn.model_selection import train_test_split\n",
    "from sklearn.metrics import accuracy_score, classification_report\n",
    "from sklearn.svm import SVC\n",
    "from imblearn.over_sampling import SMOTE\n",
    "import mlflow\n",
    "import mlflow.sklearn\n",
    "import optuna\n",
    "import os"
   ]
  },
  {
   "cell_type": "code",
   "execution_count": null,
   "metadata": {},
   "outputs": [
    {
     "data": {
      "text/plain": [
       "<Experiment: artifact_location='s3://datascienceanimesh/516785590309530379', creation_time=1743657286448, experiment_id='516785590309530379', last_update_time=1743657286448, lifecycle_stage='active', name='ML Algos with Revised HP Tuning', tags={}>"
      ]
     },
     "execution_count": 4,
     "metadata": {},
     "output_type": "execute_result"
    }
   ],
   "source": [
    "mlflow.set_tracking_uri(os.getenv(\"MLFLOW_TRACKING_URI\"))\n",
    "mlflow.set_experiment(\"ML Algos with Revised HP Tuning\")"
   ]
  },
  {
   "cell_type": "code",
   "execution_count": 5,
   "metadata": {},
   "outputs": [
    {
     "name": "stderr",
     "output_type": "stream",
     "text": [
      "[I 2025-04-03 11:39:26,707] A new study created in memory with name: no-name-079f14f2-6287-4ef7-a189-88cd897e48f7\n",
      "[I 2025-04-03 11:44:46,384] Trial 0 finished with value: 0.7567951492694 and parameters: {'C': 6.102577205639687, 'kernel': 'rbf'}. Best is trial 0 with value: 0.7567951492694.\n",
      "[I 2025-04-03 11:46:43,047] Trial 1 finished with value: 0.7658380155053165 and parameters: {'C': 7.044013958924162, 'kernel': 'linear'}. Best is trial 1 with value: 0.7658380155053165.\n",
      "[I 2025-04-03 11:49:25,234] Trial 2 finished with value: 0.3525349843475206 and parameters: {'C': 0.00027444133372347724, 'kernel': 'linear'}. Best is trial 1 with value: 0.7658380155053165.\n",
      "[I 2025-04-03 11:51:04,627] Trial 3 finished with value: 0.7693240633113976 and parameters: {'C': 2.7392919527762563, 'kernel': 'linear'}. Best is trial 3 with value: 0.7693240633113976.\n",
      "[I 2025-04-03 11:57:21,113] Trial 4 finished with value: 0.7583612395931467 and parameters: {'C': 4.241297486039209, 'kernel': 'rbf'}. Best is trial 3 with value: 0.7693240633113976.\n",
      "[I 2025-04-03 11:59:39,440] Trial 5 finished with value: 0.7175911736021864 and parameters: {'C': 0.07331181743908723, 'kernel': 'linear'}. Best is trial 3 with value: 0.7693240633113976.\n",
      "[I 2025-04-03 12:29:55,324] Trial 6 finished with value: 0.3525349843475206 and parameters: {'C': 0.0007811832175245235, 'kernel': 'linear'}. Best is trial 3 with value: 0.7693240633113976.\n",
      "[I 2025-04-03 12:54:18,993] Trial 7 finished with value: 0.5383493976472588 and parameters: {'C': 0.005959186056968365, 'kernel': 'linear'}. Best is trial 3 with value: 0.7693240633113976.\n",
      "[I 2025-04-03 14:01:41,148] Trial 8 finished with value: 0.3494020889458026 and parameters: {'C': 0.00034534147884924973, 'kernel': 'rbf'}. Best is trial 3 with value: 0.7693240633113976.\n",
      "[I 2025-04-03 14:04:00,965] Trial 9 finished with value: 0.33520299849608054 and parameters: {'C': 0.0004432762050930562, 'kernel': 'poly'}. Best is trial 3 with value: 0.7693240633113976.\n",
      "[I 2025-04-03 14:06:59,854] Trial 10 finished with value: 0.594977779439865 and parameters: {'C': 0.2533356877627123, 'kernel': 'poly'}. Best is trial 3 with value: 0.7693240633113976.\n",
      "[I 2025-04-03 14:22:24,548] Trial 11 finished with value: 0.7717995252245062 and parameters: {'C': 0.6865820440655039, 'kernel': 'linear'}. Best is trial 11 with value: 0.7717995252245062.\n",
      "[I 2025-04-03 14:23:59,864] Trial 12 finished with value: 0.7706881462223772 and parameters: {'C': 0.6198710519377533, 'kernel': 'linear'}. Best is trial 11 with value: 0.7717995252245062.\n",
      "[I 2025-04-03 14:25:31,748] Trial 13 finished with value: 0.7695263259935307 and parameters: {'C': 0.470042436554417, 'kernel': 'linear'}. Best is trial 11 with value: 0.7717995252245062.\n",
      "[I 2025-04-03 14:27:02,355] Trial 14 finished with value: 0.7704860749922685 and parameters: {'C': 0.6145904596254814, 'kernel': 'linear'}. Best is trial 11 with value: 0.7717995252245062.\n",
      "[I 2025-04-03 14:29:13,906] Trial 15 finished with value: 0.3665254559078968 and parameters: {'C': 0.02198650139658619, 'kernel': 'poly'}. Best is trial 11 with value: 0.7717995252245062.\n",
      "[I 2025-04-03 18:22:27,198] Trial 16 finished with value: 0.7362836941204189 and parameters: {'C': 0.11180077880536488, 'kernel': 'linear'}. Best is trial 11 with value: 0.7717995252245062.\n",
      "[I 2025-04-03 18:23:50,934] Trial 17 finished with value: 0.7711428830709314 and parameters: {'C': 0.9624001173075317, 'kernel': 'linear'}. Best is trial 11 with value: 0.7717995252245062.\n",
      "[I 2025-04-03 18:27:35,489] Trial 18 finished with value: 0.7660909874470013 and parameters: {'C': 1.7629233328995497, 'kernel': 'rbf'}. Best is trial 11 with value: 0.7717995252245062.\n",
      "[I 2025-04-03 18:29:46,832] Trial 19 finished with value: 0.3679894512487203 and parameters: {'C': 0.013817359782145162, 'kernel': 'poly'}. Best is trial 11 with value: 0.7717995252245062.\n",
      "[I 2025-04-03 18:32:08,822] Trial 20 finished with value: 0.3525349843475206 and parameters: {'C': 0.00216842620379566, 'kernel': 'linear'}. Best is trial 11 with value: 0.7717995252245062.\n",
      "[I 2025-04-03 18:33:37,137] Trial 21 finished with value: 0.7710922886825944 and parameters: {'C': 0.9344572943156234, 'kernel': 'linear'}. Best is trial 11 with value: 0.7717995252245062.\n",
      "[I 2025-04-03 18:35:03,130] Trial 22 finished with value: 0.769677828362239 and parameters: {'C': 1.3076247559027345, 'kernel': 'linear'}. Best is trial 11 with value: 0.7717995252245062.\n",
      "[I 2025-04-03 18:37:04,589] Trial 23 finished with value: 0.7489644423813007 and parameters: {'C': 0.16353297423399243, 'kernel': 'linear'}. Best is trial 11 with value: 0.7717995252245062.\n",
      "[I 2025-04-03 18:38:52,286] Trial 24 finished with value: 0.7708903578506371 and parameters: {'C': 1.1846017020624524, 'kernel': 'linear'}. Best is trial 11 with value: 0.7717995252245062.\n",
      "[I 2025-04-03 18:43:27,276] Trial 25 finished with value: 0.6848541409988 and parameters: {'C': 0.04442501294747861, 'kernel': 'linear'}. Best is trial 11 with value: 0.7717995252245062.\n",
      "[I 2025-04-03 18:48:02,316] Trial 26 finished with value: 0.7650806695868632 and parameters: {'C': 0.29524606598147424, 'kernel': 'linear'}. Best is trial 11 with value: 0.7717995252245062.\n",
      "[I 2025-04-03 18:52:05,949] Trial 27 finished with value: 0.7723553487419877 and parameters: {'C': 0.7317586619866696, 'kernel': 'linear'}. Best is trial 27 with value: 0.7723553487419877.\n",
      "[I 2025-04-03 19:05:07,988] Trial 28 finished with value: 0.7562899329037236 and parameters: {'C': 9.749788989185754, 'kernel': 'rbf'}. Best is trial 27 with value: 0.7723553487419877.\n",
      "[I 2025-04-03 19:52:56,236] Trial 29 finished with value: 0.5453676204338533 and parameters: {'C': 3.1705451290745175, 'kernel': 'poly'}. Best is trial 27 with value: 0.7723553487419877.\n",
      "2025/04/03 19:55:23 WARNING mlflow.models.model: Model logged without a signature and input example. Please set `input_example` parameter when logging the model to auto infer the model signature.\n"
     ]
    },
    {
     "name": "stdout",
     "output_type": "stream",
     "text": [
      "🏃 View run SVM_Undersampling_TFIDF_Bigrams at: http://ec2-16-171-237-43.eu-north-1.compute.amazonaws.com:5000/#/experiments/516785590309530379/runs/6429de792c664da38033449f9e6949d3\n",
      "🧪 View experiment at: http://ec2-16-171-237-43.eu-north-1.compute.amazonaws.com:5000/#/experiments/516785590309530379\n"
     ]
    }
   ],
   "source": [
    "import mlflow\n",
    "import optuna\n",
    "import numpy as np\n",
    "from imblearn.under_sampling import RandomUnderSampler\n",
    "from sklearn.feature_extraction.text import TfidfVectorizer\n",
    "from sklearn.model_selection import train_test_split, cross_val_score\n",
    "from sklearn.svm import SVC\n",
    "from sklearn.metrics import accuracy_score, classification_report\n",
    "\n",
    "# Step 1: Remove rows where 'category' is NaN\n",
    "df = df.dropna(subset=['category'])\n",
    "\n",
    "# Step 2: Train-test split BEFORE TF-IDF vectorization\n",
    "X_train_raw, X_test_raw, y_train, y_test = train_test_split(\n",
    "    df['clean_comment'], df['category'], test_size=0.2, random_state=42, stratify=df['category']\n",
    ")\n",
    "\n",
    "# Step 3: TF-IDF vectorization applied only on training data\n",
    "ngram_range = (1, 2)  # Use bigram features\n",
    "max_features = 1000  # Limit vocabulary size\n",
    "\n",
    "vectorizer = TfidfVectorizer(ngram_range=ngram_range, max_features=max_features)\n",
    "X_train = vectorizer.fit_transform(X_train_raw)  # Fit on training data\n",
    "X_test = vectorizer.transform(X_test_raw)  # Transform test data separately\n",
    "\n",
    "# Step 4: Apply undersampling to balance the training set\n",
    "undersampler = RandomUnderSampler(random_state=42)\n",
    "X_train_resampled, y_train_resampled = undersampler.fit_resample(X_train, y_train)\n",
    "\n",
    "# Function to log results in MLflow\n",
    "def log_mlflow(model_name, model, X_train, X_test, y_train, y_test):\n",
    "    with mlflow.start_run():\n",
    "        # Log model type\n",
    "        mlflow.set_tag(\"mlflow.runName\", f\"{model_name}_Undersampling_TFIDF_Bigrams\")\n",
    "        mlflow.set_tag(\"experiment_type\", \"algorithm_comparison\")\n",
    "\n",
    "        # Log algorithm name as a parameter\n",
    "        mlflow.log_param(\"algo_name\", model_name)\n",
    "\n",
    "        # Train model\n",
    "        model.fit(X_train, y_train)\n",
    "        y_pred = model.predict(X_test)\n",
    "\n",
    "        # Log accuracy\n",
    "        accuracy = accuracy_score(y_test, y_pred)\n",
    "        mlflow.log_metric(\"accuracy\", accuracy)\n",
    "\n",
    "        # Log classification report\n",
    "        classification_rep = classification_report(y_test, y_pred, output_dict=True)\n",
    "        for label, metrics in classification_rep.items():\n",
    "            if isinstance(metrics, dict):\n",
    "                for metric, value in metrics.items():\n",
    "                    mlflow.log_metric(f\"{label}_{metric}\", value)\n",
    "\n",
    "        # Log the model\n",
    "        mlflow.sklearn.log_model(model, f\"{model_name}_model\")\n",
    "\n",
    "\n",
    "# Step 6: Optuna objective function for SVM using cross-validation\n",
    "def objective_svm(trial):\n",
    "    C = trial.suggest_float('C', 1e-4, 10.0, log=True)  # Regularization parameter\n",
    "    kernel = trial.suggest_categorical('kernel', ['linear', 'rbf', 'poly'])\n",
    "\n",
    "    model = SVC(C=C, kernel=kernel, random_state=42)\n",
    "\n",
    "    # Use cross-validation on resampled training data\n",
    "    cv_scores = cross_val_score(model, X_train_resampled, y_train_resampled, cv=5, scoring='accuracy')\n",
    "    return np.mean(cv_scores)  # Return mean accuracy of cross-validation\n",
    "\n",
    "\n",
    "# Step 7: Run Optuna for SVM, log the best model only\n",
    "def run_optuna_experiment():\n",
    "    study = optuna.create_study(direction=\"maximize\")\n",
    "    study.optimize(objective_svm, n_trials=30)\n",
    "\n",
    "    # Get the best parameters and log only the best model\n",
    "    best_params = study.best_params\n",
    "    best_model = SVC(C=best_params['C'], kernel=best_params['kernel'], random_state=42)\n",
    "\n",
    "    # Train the best model on the resampled training set\n",
    "    best_model.fit(X_train_resampled, y_train_resampled)\n",
    "\n",
    "    # Log the best model using MLflow\n",
    "    log_mlflow(\"SVM\", best_model, X_train_resampled, X_test, y_train_resampled, y_test)\n",
    "\n",
    "# Run the experiment for SVM\n",
    "run_optuna_experiment()\n"
   ]
  }
 ],
 "metadata": {
  "kernelspec": {
   "display_name": "comment_analysis",
   "language": "python",
   "name": "python3"
  },
  "language_info": {
   "codemirror_mode": {
    "name": "ipython",
    "version": 3
   },
   "file_extension": ".py",
   "mimetype": "text/x-python",
   "name": "python",
   "nbconvert_exporter": "python",
   "pygments_lexer": "ipython3",
   "version": "3.10.9"
  }
 },
 "nbformat": 4,
 "nbformat_minor": 2
}
